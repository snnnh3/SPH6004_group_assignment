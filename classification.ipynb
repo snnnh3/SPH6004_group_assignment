{
 "cells": [
  {
   "cell_type": "code",
   "execution_count": 2,
   "metadata": {},
   "outputs": [],
   "source": [
    "import os\n",
    "import torch\n",
    "import torch.optim as optim\n",
    "import torch.nn as nn\n",
    "import torch.nn.functional as F\n",
    "from torch.utils.data import DataLoader\n",
    "from torch.utils.data import Dataset\n",
    "import pandas as pd\n",
    "import matplotlib.pyplot as plt\n",
    "import numpy as np\n",
    "import random\n",
    "from model import Encoder, Decoder\n",
    "from sklearn.model_selection import train_test_split\n",
    "from tqdm.auto import tqdm"
   ]
  },
  {
   "cell_type": "code",
   "execution_count": 11,
   "metadata": {},
   "outputs": [],
   "source": [
    "# parameters\n",
    "data_path = './clean.csv'\n",
    "seed = 123\n",
    "learning_rate = 0.001\n",
    "train_batch_size = 128\n",
    "test_batch_size = 128\n",
    "num_epochs = 200\n",
    "device = \"cuda\" if torch.cuda.is_available() else \"cpu\"\n",
    "log_dir = './models/'\n",
    "if not os.path.exists(log_dir):\n",
    "    os.makedirs(log_dir)\n",
    "\n",
    "# set seeds\n",
    "np.random.seed(seed)\n",
    "random.seed(seed)\n",
    "torch.manual_seed(seed)\n",
    "if torch.cuda.is_available():\n",
    "    torch.cuda.manual_seed_all(seed)"
   ]
  },
  {
   "cell_type": "code",
   "execution_count": 4,
   "metadata": {},
   "outputs": [],
   "source": [
    "class Encoder(nn.Module):\n",
    "    def __init__(self):\n",
    "        super(Encoder, self).__init__()\n",
    "        self.fc1 = nn.Linear(65, 128)\n",
    "        self.fc2 = nn.Linear(128, 64)\n",
    "\n",
    "    def forward(self, x):\n",
    "        x = F.relu(self.fc1(x))\n",
    "        x = F.relu(self.fc2(x))\n",
    "        return x\n",
    "\n",
    "class Classifier(nn.Module):\n",
    "    def __init__(self):\n",
    "        super(Classifier, self).__init__()\n",
    "        self.fc3 = nn.Linear(64, 1)  \n",
    "\n",
    "    def forward(self, x):\n",
    "        x = torch.sigmoid(self.fc3(x))  \n",
    "        return x"
   ]
  },
  {
   "cell_type": "code",
   "execution_count": 5,
   "metadata": {},
   "outputs": [],
   "source": [
    "class ClassDataset(Dataset):\n",
    "    def __init__(self, data, transform=None):\n",
    "        self.data = data\n",
    "        self.transform = transform\n",
    "\n",
    "    def __len__(self):\n",
    "        return len(self.data)\n",
    "\n",
    "    def __getitem__(self, idx):\n",
    "        if torch.is_tensor(idx):\n",
    "            idx = idx.tolist()\n",
    "\n",
    "        y = torch.tensor(self.data.iloc[idx, 1], dtype=torch.float32)\n",
    "        x = torch.tensor(self.data.iloc[idx, 2:].values, dtype=torch.float32)\n",
    "\n",
    "        if self.transform:\n",
    "            x = self.transform(x)\n",
    "\n",
    "        return x, y"
   ]
  },
  {
   "cell_type": "code",
   "execution_count": 8,
   "metadata": {},
   "outputs": [],
   "source": [
    "def save_checkpoints(encoder, decoder, opt, checkpoint_path):\n",
    "    save_dict = {}\n",
    "    save_dict.update({'encoder': encoder.state_dict()})\n",
    "    save_dict.update({'decoder': decoder.state_dict()})\n",
    "    save_dict.update({'opt': opt.state_dict()})\n",
    "    torch.save(save_dict, checkpoint_path)\n",
    "\n",
    "def load_checkpoints(encoder, decoder, opt, checkpoint_path):\n",
    "    ckpt = torch.load(checkpoint_path)\n",
    "    encoder.load_state_dict(ckpt['encoder'])\n",
    "    decoder.load_state_dict(ckpt['decoder'])\n",
    "    opt.load_state_dict(ckpt['opt'])"
   ]
  },
  {
   "cell_type": "code",
   "execution_count": 9,
   "metadata": {},
   "outputs": [],
   "source": [
    "def cal_accuracy(y_pred, y_true):\n",
    "    y_pred_rounded = torch.round(y_pred)\n",
    "    correct = (y_pred_rounded == y_true).float()\n",
    "    accuracy = correct.sum() / len(correct)\n",
    "    return accuracy"
   ]
  },
  {
   "cell_type": "code",
   "execution_count": 10,
   "metadata": {},
   "outputs": [],
   "source": [
    "# models\n",
    "loss_func = torch.nn.MSELoss()\n",
    "\n",
    "encoder = Encoder().to(device)\n",
    "decoder = Classifier().to(device)\n",
    "\n",
    "# optimizer\n",
    "# opt = optim.Adam(model.parameters(), lr=learning_rate)\n",
    "opt = optim.SGD(list(encoder.parameters()) + list(decoder.parameters()), lr=learning_rate,\n",
    "                    momentum=0.9, weight_decay=5e-4)\n",
    "\n",
    "# load data\n",
    "data = pd.read_csv(data_path)\n",
    "\n",
    "# Split the data into train and test sets\n",
    "train_data, test_data = train_test_split(data, test_size=0.2, random_state=seed)\n",
    "\n",
    "training_data = ClassDataset(train_data)\n",
    "testing_data = ClassDataset(test_data)\n",
    "\n",
    "train_loader = DataLoader(training_data, batch_size=train_batch_size, shuffle=True)\n",
    "test_loader = DataLoader(testing_data, batch_size=test_batch_size, shuffle=False)"
   ]
  },
  {
   "cell_type": "code",
   "execution_count": 12,
   "metadata": {},
   "outputs": [
    {
     "name": "stderr",
     "output_type": "stream",
     "text": [
      "training epoch #1:   0%|          | 0/229 [00:00<?, ?it/s]"
     ]
    },
    {
     "name": "stderr",
     "output_type": "stream",
     "text": [
      "training epoch #1: 100%|██████████| 229/229 [00:01<00:00, 125.13it/s]\n",
      "training epoch #2: 100%|██████████| 229/229 [00:01<00:00, 129.74it/s]\n",
      "training epoch #3: 100%|██████████| 229/229 [00:01<00:00, 131.37it/s]\n",
      "training epoch #4: 100%|██████████| 229/229 [00:01<00:00, 132.16it/s]\n",
      "training epoch #5: 100%|██████████| 229/229 [00:01<00:00, 132.37it/s]\n",
      "training epoch #6: 100%|██████████| 229/229 [00:01<00:00, 128.91it/s]\n",
      "training epoch #7: 100%|██████████| 229/229 [00:01<00:00, 128.15it/s]\n",
      "training epoch #8: 100%|██████████| 229/229 [00:01<00:00, 129.99it/s]\n",
      "training epoch #9: 100%|██████████| 229/229 [00:01<00:00, 132.22it/s]\n",
      "training epoch #10: 100%|██████████| 229/229 [00:01<00:00, 133.99it/s]\n",
      "training epoch #11: 100%|██████████| 229/229 [00:01<00:00, 135.73it/s]\n",
      "training epoch #12: 100%|██████████| 229/229 [00:01<00:00, 135.55it/s]\n",
      "training epoch #13: 100%|██████████| 229/229 [00:01<00:00, 136.26it/s]\n",
      "training epoch #14: 100%|██████████| 229/229 [00:01<00:00, 132.98it/s]\n",
      "training epoch #15: 100%|██████████| 229/229 [00:01<00:00, 131.02it/s]\n",
      "training epoch #16: 100%|██████████| 229/229 [00:01<00:00, 128.37it/s]\n",
      "training epoch #17: 100%|██████████| 229/229 [00:01<00:00, 129.44it/s]\n",
      "training epoch #18: 100%|██████████| 229/229 [00:01<00:00, 128.22it/s]\n",
      "training epoch #19: 100%|██████████| 229/229 [00:01<00:00, 130.53it/s]\n",
      "training epoch #20: 100%|██████████| 229/229 [00:01<00:00, 131.55it/s]\n",
      "training epoch #21: 100%|██████████| 229/229 [00:01<00:00, 134.73it/s]\n",
      "training epoch #22: 100%|██████████| 229/229 [00:01<00:00, 131.77it/s]\n",
      "training epoch #23: 100%|██████████| 229/229 [00:01<00:00, 132.88it/s]\n",
      "training epoch #24: 100%|██████████| 229/229 [00:01<00:00, 134.44it/s]\n",
      "training epoch #25: 100%|██████████| 229/229 [00:01<00:00, 132.79it/s]\n",
      "training epoch #26: 100%|██████████| 229/229 [00:01<00:00, 135.36it/s]\n",
      "training epoch #27: 100%|██████████| 229/229 [00:01<00:00, 133.83it/s]\n",
      "training epoch #28: 100%|██████████| 229/229 [00:01<00:00, 134.69it/s]\n",
      "training epoch #29: 100%|██████████| 229/229 [00:01<00:00, 133.17it/s]\n",
      "training epoch #30: 100%|██████████| 229/229 [00:01<00:00, 134.09it/s]\n",
      "training epoch #31: 100%|██████████| 229/229 [00:01<00:00, 131.15it/s]\n",
      "training epoch #32: 100%|██████████| 229/229 [00:01<00:00, 129.99it/s]\n",
      "training epoch #33: 100%|██████████| 229/229 [00:01<00:00, 133.30it/s]\n",
      "training epoch #34: 100%|██████████| 229/229 [00:01<00:00, 130.46it/s]\n",
      "training epoch #35: 100%|██████████| 229/229 [00:01<00:00, 135.41it/s]\n",
      "training epoch #36: 100%|██████████| 229/229 [00:01<00:00, 136.86it/s]\n",
      "training epoch #37: 100%|██████████| 229/229 [00:01<00:00, 136.55it/s]\n",
      "training epoch #38: 100%|██████████| 229/229 [00:01<00:00, 130.24it/s]\n",
      "training epoch #39: 100%|██████████| 229/229 [00:01<00:00, 129.99it/s]\n",
      "training epoch #40: 100%|██████████| 229/229 [00:01<00:00, 129.36it/s]\n",
      "training epoch #41: 100%|██████████| 229/229 [00:01<00:00, 130.90it/s]\n",
      "training epoch #42: 100%|██████████| 229/229 [00:01<00:00, 130.10it/s]\n",
      "training epoch #43: 100%|██████████| 229/229 [00:01<00:00, 131.23it/s]\n",
      "training epoch #44: 100%|██████████| 229/229 [00:01<00:00, 131.34it/s]\n",
      "training epoch #45: 100%|██████████| 229/229 [00:01<00:00, 129.16it/s]\n",
      "training epoch #46: 100%|██████████| 229/229 [00:01<00:00, 126.34it/s]\n",
      "training epoch #47: 100%|██████████| 229/229 [00:01<00:00, 127.92it/s]\n",
      "training epoch #48: 100%|██████████| 229/229 [00:01<00:00, 129.36it/s]\n",
      "training epoch #49: 100%|██████████| 229/229 [00:01<00:00, 126.05it/s]\n",
      "training epoch #50: 100%|██████████| 229/229 [00:01<00:00, 125.47it/s]\n",
      "training epoch #51: 100%|██████████| 229/229 [00:01<00:00, 128.18it/s]\n",
      "training epoch #52: 100%|██████████| 229/229 [00:01<00:00, 127.21it/s]\n",
      "training epoch #53: 100%|██████████| 229/229 [00:01<00:00, 128.61it/s]\n",
      "training epoch #54: 100%|██████████| 229/229 [00:01<00:00, 126.67it/s]\n",
      "training epoch #55: 100%|██████████| 229/229 [00:01<00:00, 128.29it/s]\n",
      "training epoch #56: 100%|██████████| 229/229 [00:01<00:00, 131.98it/s]\n",
      "training epoch #57: 100%|██████████| 229/229 [00:01<00:00, 125.53it/s]\n",
      "training epoch #58: 100%|██████████| 229/229 [00:01<00:00, 125.33it/s]\n",
      "training epoch #59: 100%|██████████| 229/229 [00:01<00:00, 126.66it/s]\n",
      "training epoch #60: 100%|██████████| 229/229 [00:01<00:00, 126.46it/s]\n",
      "training epoch #61: 100%|██████████| 229/229 [00:01<00:00, 125.82it/s]\n",
      "training epoch #62: 100%|██████████| 229/229 [00:01<00:00, 124.25it/s]\n",
      "training epoch #63: 100%|██████████| 229/229 [00:01<00:00, 127.14it/s]\n",
      "training epoch #64: 100%|██████████| 229/229 [00:01<00:00, 125.86it/s]\n",
      "training epoch #65: 100%|██████████| 229/229 [00:01<00:00, 126.21it/s]\n",
      "training epoch #66: 100%|██████████| 229/229 [00:01<00:00, 125.93it/s]\n",
      "training epoch #67: 100%|██████████| 229/229 [00:01<00:00, 125.74it/s]\n",
      "training epoch #68: 100%|██████████| 229/229 [00:01<00:00, 125.58it/s]\n",
      "training epoch #69: 100%|██████████| 229/229 [00:01<00:00, 127.17it/s]\n",
      "training epoch #70: 100%|██████████| 229/229 [00:01<00:00, 125.96it/s]\n",
      "training epoch #71: 100%|██████████| 229/229 [00:01<00:00, 126.45it/s]\n",
      "training epoch #72: 100%|██████████| 229/229 [00:01<00:00, 124.72it/s]\n",
      "training epoch #73: 100%|██████████| 229/229 [00:01<00:00, 125.46it/s]\n",
      "training epoch #74: 100%|██████████| 229/229 [00:01<00:00, 125.77it/s]\n",
      "training epoch #75: 100%|██████████| 229/229 [00:01<00:00, 126.78it/s]\n",
      "training epoch #76: 100%|██████████| 229/229 [00:01<00:00, 130.20it/s]\n",
      "training epoch #77: 100%|██████████| 229/229 [00:01<00:00, 125.60it/s]\n",
      "training epoch #78: 100%|██████████| 229/229 [00:01<00:00, 124.09it/s]\n",
      "training epoch #79: 100%|██████████| 229/229 [00:01<00:00, 126.56it/s]\n",
      "training epoch #80: 100%|██████████| 229/229 [00:01<00:00, 133.77it/s]\n",
      "training epoch #81: 100%|██████████| 229/229 [00:01<00:00, 131.97it/s]\n",
      "training epoch #82: 100%|██████████| 229/229 [00:01<00:00, 134.28it/s]\n",
      "training epoch #83: 100%|██████████| 229/229 [00:01<00:00, 135.79it/s]\n",
      "training epoch #84: 100%|██████████| 229/229 [00:01<00:00, 138.04it/s]\n",
      "training epoch #85: 100%|██████████| 229/229 [00:01<00:00, 138.30it/s]\n",
      "training epoch #86: 100%|██████████| 229/229 [00:01<00:00, 136.85it/s]\n",
      "training epoch #87: 100%|██████████| 229/229 [00:01<00:00, 139.68it/s]\n",
      "training epoch #88: 100%|██████████| 229/229 [00:01<00:00, 138.89it/s]\n",
      "training epoch #89: 100%|██████████| 229/229 [00:01<00:00, 140.28it/s]\n",
      "training epoch #90: 100%|██████████| 229/229 [00:01<00:00, 137.54it/s]\n",
      "training epoch #91: 100%|██████████| 229/229 [00:01<00:00, 136.26it/s]\n",
      "training epoch #92: 100%|██████████| 229/229 [00:01<00:00, 137.81it/s]\n",
      "training epoch #93: 100%|██████████| 229/229 [00:01<00:00, 136.60it/s]\n",
      "training epoch #94: 100%|██████████| 229/229 [00:01<00:00, 136.98it/s]\n",
      "training epoch #95: 100%|██████████| 229/229 [00:01<00:00, 138.20it/s]\n",
      "training epoch #96: 100%|██████████| 229/229 [00:01<00:00, 137.12it/s]\n",
      "training epoch #97: 100%|██████████| 229/229 [00:01<00:00, 137.71it/s]\n",
      "training epoch #98: 100%|██████████| 229/229 [00:01<00:00, 134.90it/s]\n",
      "training epoch #99: 100%|██████████| 229/229 [00:01<00:00, 134.96it/s]\n",
      "training epoch #100: 100%|██████████| 229/229 [00:01<00:00, 135.67it/s]\n",
      "training epoch #101: 100%|██████████| 229/229 [00:01<00:00, 138.74it/s]\n",
      "training epoch #102: 100%|██████████| 229/229 [00:01<00:00, 138.51it/s]\n",
      "training epoch #103: 100%|██████████| 229/229 [00:01<00:00, 138.27it/s]\n",
      "training epoch #104: 100%|██████████| 229/229 [00:01<00:00, 135.18it/s]\n",
      "training epoch #105: 100%|██████████| 229/229 [00:01<00:00, 135.76it/s]\n",
      "training epoch #106: 100%|██████████| 229/229 [00:01<00:00, 138.04it/s]\n",
      "training epoch #107: 100%|██████████| 229/229 [00:01<00:00, 138.88it/s]\n",
      "training epoch #108: 100%|██████████| 229/229 [00:01<00:00, 136.18it/s]\n",
      "training epoch #109: 100%|██████████| 229/229 [00:01<00:00, 136.94it/s]\n",
      "training epoch #110: 100%|██████████| 229/229 [00:01<00:00, 135.58it/s]\n",
      "training epoch #111: 100%|██████████| 229/229 [00:01<00:00, 136.79it/s]\n",
      "training epoch #112: 100%|██████████| 229/229 [00:01<00:00, 126.51it/s]\n",
      "training epoch #113: 100%|██████████| 229/229 [00:01<00:00, 128.29it/s]\n",
      "training epoch #114: 100%|██████████| 229/229 [00:01<00:00, 129.91it/s]\n",
      "training epoch #115: 100%|██████████| 229/229 [00:01<00:00, 129.06it/s]\n",
      "training epoch #116: 100%|██████████| 229/229 [00:01<00:00, 129.80it/s]\n",
      "training epoch #117: 100%|██████████| 229/229 [00:01<00:00, 131.09it/s]\n",
      "training epoch #118: 100%|██████████| 229/229 [00:01<00:00, 131.52it/s]\n",
      "training epoch #119: 100%|██████████| 229/229 [00:01<00:00, 132.87it/s]\n",
      "training epoch #120: 100%|██████████| 229/229 [00:01<00:00, 132.54it/s]\n",
      "training epoch #121: 100%|██████████| 229/229 [00:01<00:00, 131.29it/s]\n",
      "training epoch #122: 100%|██████████| 229/229 [00:01<00:00, 130.24it/s]\n",
      "training epoch #123: 100%|██████████| 229/229 [00:01<00:00, 129.85it/s]\n",
      "training epoch #124: 100%|██████████| 229/229 [00:01<00:00, 131.06it/s]\n",
      "training epoch #125: 100%|██████████| 229/229 [00:01<00:00, 132.56it/s]\n",
      "training epoch #126: 100%|██████████| 229/229 [00:01<00:00, 133.18it/s]\n",
      "training epoch #127: 100%|██████████| 229/229 [00:01<00:00, 132.40it/s]\n",
      "training epoch #128: 100%|██████████| 229/229 [00:01<00:00, 129.40it/s]\n",
      "training epoch #129: 100%|██████████| 229/229 [00:01<00:00, 132.33it/s]\n",
      "training epoch #130: 100%|██████████| 229/229 [00:01<00:00, 131.27it/s]\n",
      "training epoch #131: 100%|██████████| 229/229 [00:01<00:00, 130.25it/s]\n",
      "training epoch #132: 100%|██████████| 229/229 [00:01<00:00, 132.64it/s]\n",
      "training epoch #133: 100%|██████████| 229/229 [00:01<00:00, 131.79it/s]\n",
      "training epoch #134: 100%|██████████| 229/229 [00:01<00:00, 132.44it/s]\n",
      "training epoch #135: 100%|██████████| 229/229 [00:01<00:00, 131.95it/s]\n",
      "training epoch #136: 100%|██████████| 229/229 [00:01<00:00, 132.52it/s]\n",
      "training epoch #137: 100%|██████████| 229/229 [00:01<00:00, 132.12it/s]\n",
      "training epoch #138: 100%|██████████| 229/229 [00:01<00:00, 131.06it/s]\n",
      "training epoch #139: 100%|██████████| 229/229 [00:01<00:00, 130.20it/s]\n",
      "training epoch #140: 100%|██████████| 229/229 [00:01<00:00, 131.59it/s]\n",
      "training epoch #141: 100%|██████████| 229/229 [00:01<00:00, 131.29it/s]\n",
      "training epoch #142: 100%|██████████| 229/229 [00:01<00:00, 133.21it/s]\n",
      "training epoch #143: 100%|██████████| 229/229 [00:01<00:00, 130.54it/s]\n",
      "training epoch #144: 100%|██████████| 229/229 [00:01<00:00, 130.35it/s]\n",
      "training epoch #145: 100%|██████████| 229/229 [00:01<00:00, 126.80it/s]\n",
      "training epoch #146: 100%|██████████| 229/229 [00:01<00:00, 127.45it/s]\n",
      "training epoch #147: 100%|██████████| 229/229 [00:01<00:00, 130.70it/s]\n",
      "training epoch #148: 100%|██████████| 229/229 [00:01<00:00, 125.89it/s]\n",
      "training epoch #149: 100%|██████████| 229/229 [00:01<00:00, 125.71it/s]\n",
      "training epoch #150: 100%|██████████| 229/229 [00:01<00:00, 132.43it/s]\n",
      "training epoch #151: 100%|██████████| 229/229 [00:01<00:00, 128.53it/s]\n",
      "training epoch #152: 100%|██████████| 229/229 [00:01<00:00, 126.11it/s]\n",
      "training epoch #153: 100%|██████████| 229/229 [00:01<00:00, 126.69it/s]\n",
      "training epoch #154: 100%|██████████| 229/229 [00:01<00:00, 129.73it/s]\n",
      "training epoch #155: 100%|██████████| 229/229 [00:01<00:00, 129.90it/s]\n",
      "training epoch #156: 100%|██████████| 229/229 [00:01<00:00, 129.99it/s]\n",
      "training epoch #157: 100%|██████████| 229/229 [00:01<00:00, 128.64it/s]\n",
      "training epoch #158: 100%|██████████| 229/229 [00:01<00:00, 133.63it/s]\n",
      "training epoch #159: 100%|██████████| 229/229 [00:01<00:00, 140.05it/s]\n",
      "training epoch #160: 100%|██████████| 229/229 [00:01<00:00, 141.88it/s]\n",
      "training epoch #161: 100%|██████████| 229/229 [00:01<00:00, 141.61it/s]\n",
      "training epoch #162: 100%|██████████| 229/229 [00:01<00:00, 138.60it/s]\n",
      "training epoch #163: 100%|██████████| 229/229 [00:01<00:00, 139.27it/s]\n",
      "training epoch #164: 100%|██████████| 229/229 [00:01<00:00, 138.02it/s]\n",
      "training epoch #165: 100%|██████████| 229/229 [00:01<00:00, 129.22it/s]\n",
      "training epoch #166: 100%|██████████| 229/229 [00:01<00:00, 130.30it/s]\n",
      "training epoch #167: 100%|██████████| 229/229 [00:01<00:00, 131.97it/s]\n",
      "training epoch #168: 100%|██████████| 229/229 [00:01<00:00, 133.22it/s]\n",
      "training epoch #169: 100%|██████████| 229/229 [00:01<00:00, 131.30it/s]\n",
      "training epoch #170: 100%|██████████| 229/229 [00:01<00:00, 130.33it/s]\n",
      "training epoch #171: 100%|██████████| 229/229 [00:01<00:00, 129.91it/s]\n",
      "training epoch #172: 100%|██████████| 229/229 [00:01<00:00, 129.92it/s]\n",
      "training epoch #173: 100%|██████████| 229/229 [00:01<00:00, 136.89it/s]\n",
      "training epoch #174: 100%|██████████| 229/229 [00:01<00:00, 132.99it/s]\n",
      "training epoch #175: 100%|██████████| 229/229 [00:01<00:00, 131.40it/s]\n",
      "training epoch #176: 100%|██████████| 229/229 [00:01<00:00, 131.19it/s]\n",
      "training epoch #177: 100%|██████████| 229/229 [00:01<00:00, 129.22it/s]\n",
      "training epoch #178: 100%|██████████| 229/229 [00:01<00:00, 129.84it/s]\n",
      "training epoch #179: 100%|██████████| 229/229 [00:01<00:00, 131.91it/s]\n",
      "training epoch #180: 100%|██████████| 229/229 [00:01<00:00, 131.91it/s]\n",
      "training epoch #181: 100%|██████████| 229/229 [00:01<00:00, 130.52it/s]\n",
      "training epoch #182: 100%|██████████| 229/229 [00:01<00:00, 129.17it/s]\n",
      "training epoch #183: 100%|██████████| 229/229 [00:01<00:00, 130.00it/s]\n",
      "training epoch #184: 100%|██████████| 229/229 [00:01<00:00, 135.01it/s]\n",
      "training epoch #185: 100%|██████████| 229/229 [00:01<00:00, 136.03it/s]\n",
      "training epoch #186: 100%|██████████| 229/229 [00:01<00:00, 138.00it/s]\n",
      "training epoch #187: 100%|██████████| 229/229 [00:01<00:00, 139.90it/s]\n",
      "training epoch #188: 100%|██████████| 229/229 [00:01<00:00, 138.86it/s]\n",
      "training epoch #189: 100%|██████████| 229/229 [00:01<00:00, 140.50it/s]\n",
      "training epoch #190: 100%|██████████| 229/229 [00:01<00:00, 141.02it/s]\n",
      "training epoch #191: 100%|██████████| 229/229 [00:01<00:00, 140.22it/s]\n",
      "training epoch #192: 100%|██████████| 229/229 [00:01<00:00, 137.93it/s]\n",
      "training epoch #193: 100%|██████████| 229/229 [00:01<00:00, 140.30it/s]\n",
      "training epoch #194: 100%|██████████| 229/229 [00:01<00:00, 139.69it/s]\n",
      "training epoch #195: 100%|██████████| 229/229 [00:01<00:00, 139.09it/s]\n",
      "training epoch #196: 100%|██████████| 229/229 [00:01<00:00, 139.54it/s]\n",
      "training epoch #197: 100%|██████████| 229/229 [00:01<00:00, 139.51it/s]\n",
      "training epoch #198: 100%|██████████| 229/229 [00:01<00:00, 140.27it/s]\n",
      "training epoch #199: 100%|██████████| 229/229 [00:01<00:00, 138.61it/s]\n",
      "training epoch #200: 100%|██████████| 229/229 [00:01<00:00, 128.34it/s]\n"
     ]
    }
   ],
   "source": [
    "training_loss = []\n",
    "training_acc = []\n",
    "for epoch in range(1, 1+num_epochs):\n",
    "    encoder.train()\n",
    "    decoder.train()\n",
    "    loss_list = []\n",
    "    acc_list = []\n",
    "\n",
    "    for x, y in tqdm(train_loader, desc=f\"training epoch #{epoch}\"):\n",
    "        opt.zero_grad()\n",
    "        embedding = encoder(x.to(device))\n",
    "        pred = decoder(embedding)\n",
    "        loss = loss_func(pred.squeeze(), y.to(device))\n",
    "        acc = cal_accuracy(pred.squeeze(), y.to(device))\n",
    "        \n",
    "        loss.backward()\n",
    "        opt.step()\n",
    "        loss_list.append(loss.item())\n",
    "        acc_list.append(acc.item())\n",
    "    \n",
    "    epoch_loss = sum(loss_list) / len(loss_list)\n",
    "    epoch_acc = sum(acc_list) / len(acc_list)\n",
    "    training_loss.append(epoch_loss)\n",
    "    training_acc.append(epoch_acc)\n",
    "    \n",
    "save_checkpoints(encoder, decoder, opt, os.path.join(log_dir, 'ckpt.pth'))\n"
   ]
  },
  {
   "cell_type": "code",
   "execution_count": 13,
   "metadata": {},
   "outputs": [
    {
     "data": {
      "text/plain": [
       "[<matplotlib.lines.Line2D at 0x2af52fd60>]"
      ]
     },
     "execution_count": 13,
     "metadata": {},
     "output_type": "execute_result"
    },
    {
     "data": {
      "image/png": "[encoded data removed]",
      "text/plain": [
       "<Figure size 640x480 with 1 Axes>"
      ]
     },
     "metadata": {},
     "output_type": "display_data"
    }
   ],
   "source": [
    "plt.plot(training_loss)"
   ]
  },
  {
   "cell_type": "code",
   "execution_count": 14,
   "metadata": {},
   "outputs": [
    {
     "data": {
      "text/plain": [
       "[<matplotlib.lines.Line2D at 0x2afba1900>]"
      ]
     },
     "execution_count": 14,
     "metadata": {},
     "output_type": "execute_result"
    },
    {
     "data": {
      "image/png": "[encoded data removed]",
      "text/plain": [
       "<Figure size 640x480 with 1 Axes>"
      ]
     },
     "metadata": {},
     "output_type": "display_data"
    }
   ],
   "source": [
    "plt.plot(training_acc)"
   ]
  },
  {
   "cell_type": "code",
   "execution_count": 21,
   "metadata": {},
   "outputs": [
    {
     "name": "stderr",
     "output_type": "stream",
     "text": [
      "testing: 100%|██████████| 58/58 [00:00<00:00, 144.19it/s]\n"
     ]
    }
   ],
   "source": [
    "encoder.eval()\n",
    "decoder.eval()\n",
    "loss_list = []\n",
    "acc_list = []\n",
    "\n",
    "for x, y in tqdm(test_loader, desc=\"testing\"):\n",
    "    embedding = encoder(x.to(device))\n",
    "    pred = decoder(embedding)\n",
    "    loss = loss_func(pred.squeeze(), y.to(device))\n",
    "    acc = cal_accuracy(pred.squeeze(), y.to(device))\n",
    "    \n",
    "    loss_list.append(loss.item())\n",
    "    acc_list.append(acc.item())\n",
    "\n",
    "testing_loss = sum(loss_list) / len(loss_list)\n",
    "testing_acc = sum(acc_list) / len(acc_list)"
   ]
  },
  {
   "cell_type": "code",
   "execution_count": 22,
   "metadata": {},
   "outputs": [
    {
     "name": "stdout",
     "output_type": "stream",
     "text": [
      "0.08890278708061268\n"
     ]
    }
   ],
   "source": [
    "print(testing_loss)"
   ]
  },
  {
   "cell_type": "code",
   "execution_count": 23,
   "metadata": {},
   "outputs": [
    {
     "name": "stdout",
     "output_type": "stream",
     "text": [
      "0.8886673851259823\n"
     ]
    }
   ],
   "source": [
    "print(testing_acc)"
   ]
  },
  {
   "cell_type": "code",
   "execution_count": 24,
   "metadata": {},
   "outputs": [],
   "source": [
    "# generate embeddings\n",
    "x = torch.tensor(data.iloc[:, 2:].values, dtype=torch.float32)\n",
    "embedding = encoder(x.to(device))"
   ]
  },
  {
   "cell_type": "code",
   "execution_count": 25,
   "metadata": {},
   "outputs": [
    {
     "data": {
      "text/plain": [
       "torch.Size([36552, 64])"
      ]
     },
     "execution_count": 25,
     "metadata": {},
     "output_type": "execute_result"
    }
   ],
   "source": [
    "embedding.shape"
   ]
  },
  {
   "cell_type": "code",
   "execution_count": 18,
   "metadata": {},
   "outputs": [],
   "source": [
    "# save trained embedding\n",
    "np.save('./embedding.npy', embedding.detach().numpy())"
   ]
  },
  {
   "cell_type": "code",
   "execution_count": null,
   "metadata": {},
   "outputs": [],
   "source": []
  }
 ],
 "metadata": {
  "kernelspec": {
   "display_name": "hmarl",
   "language": "python",
   "name": "python3"
  },
  "language_info": {
   "codemirror_mode": {
    "name": "ipython",
    "version": 3
   },
   "file_extension": ".py",
   "mimetype": "text/x-python",
   "name": "python",
   "nbconvert_exporter": "python",
   "pygments_lexer": "ipython3",
   "version": "3.10.13"
  }
 },
 "nbformat": 4,
 "nbformat_minor": 2
}
