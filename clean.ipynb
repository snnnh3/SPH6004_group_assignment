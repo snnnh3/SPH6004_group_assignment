{
 "cells": [
  {
   "cell_type": "code",
   "execution_count": 63,
   "id": "initial_id",
   "metadata": {
    "collapsed": true,
    "ExecuteTime": {
     "end_time": "2024-04-12T09:34:57.770713Z",
     "start_time": "2024-04-12T09:34:57.607528Z"
    }
   },
   "outputs": [],
   "source": [
    "import pandas as pd\n",
    "import numpy as np\n",
    "import os\n",
    "\n",
    "from sklearn.impute import KNNImputer\n",
    "\n",
    "from imblearn.over_sampling import SMOTE"
   ]
  },
  {
   "cell_type": "code",
   "execution_count": 64,
   "outputs": [],
   "source": [
    "static = pd.read_csv('/Users/von/PycharmProjects/SPH6004_A2/data/static.csv')\n",
    "dynamic = pd.read_csv('/Users/von/PycharmProjects/SPH6004_A2/data/dynamic.csv')"
   ],
   "metadata": {
    "collapsed": false,
    "ExecuteTime": {
     "end_time": "2024-04-12T09:34:58.118061Z",
     "start_time": "2024-04-12T09:34:57.609106Z"
    }
   },
   "id": "f1b4a7f5005700b4"
  },
  {
   "cell_type": "markdown",
   "source": [
    "## Data Description"
   ],
   "metadata": {
    "collapsed": false
   },
   "id": "11ee2ab8b445fae5"
  },
  {
   "cell_type": "markdown",
   "source": [
    "The static file is on subject level, while the dynamic file is not (in other words, in static, one person per row; in dynamic, several rows per person). \n",
    "Then two ideas to deal with the dynamic file:\n",
    "1) group by id, and take the mean of each lab test;\n",
    "2) pivot long to wide."
   ],
   "metadata": {
    "collapsed": false
   },
   "id": "f7e49d5cb7272643"
  },
  {
   "cell_type": "code",
   "execution_count": 65,
   "outputs": [
    {
     "data": {
      "text/plain": "(20414, 25)"
     },
     "execution_count": 65,
     "metadata": {},
     "output_type": "execute_result"
    }
   ],
   "source": [
    "static.shape"
   ],
   "metadata": {
    "collapsed": false,
    "ExecuteTime": {
     "end_time": "2024-04-12T09:34:58.118853Z",
     "start_time": "2024-04-12T09:34:57.895184Z"
    }
   },
   "id": "7c0f9b440eaf3f0a"
  },
  {
   "cell_type": "code",
   "execution_count": 66,
   "outputs": [
    {
     "data": {
      "text/plain": "(93604, 70)"
     },
     "execution_count": 66,
     "metadata": {},
     "output_type": "execute_result"
    }
   ],
   "source": [
    "dynamic.shape"
   ],
   "metadata": {
    "collapsed": false,
    "ExecuteTime": {
     "end_time": "2024-04-12T09:34:58.118957Z",
     "start_time": "2024-04-12T09:34:57.898216Z"
    }
   },
   "id": "cb080df648c1e8cc"
  },
  {
   "cell_type": "code",
   "execution_count": 67,
   "outputs": [],
   "source": [
    "## take mean of each lab test\n",
    "dynamic1 = dynamic.groupby('id').median(numeric_only=True).reset_index()"
   ],
   "metadata": {
    "collapsed": false,
    "ExecuteTime": {
     "end_time": "2024-04-12T09:34:58.118997Z",
     "start_time": "2024-04-12T09:34:57.903878Z"
    }
   },
   "id": "ed3fb72de58c7d3"
  },
  {
   "cell_type": "code",
   "execution_count": 68,
   "outputs": [],
   "source": [
    "df = pd.merge(static, dynamic1, on='id', how='left')"
   ],
   "metadata": {
    "collapsed": false,
    "ExecuteTime": {
     "end_time": "2024-04-12T09:34:58.119350Z",
     "start_time": "2024-04-12T09:34:57.993834Z"
    }
   },
   "id": "40a656e75ebb65f2"
  },
  {
   "cell_type": "code",
   "execution_count": 69,
   "outputs": [
    {
     "data": {
      "text/plain": "(20414, 93)"
     },
     "execution_count": 69,
     "metadata": {},
     "output_type": "execute_result"
    }
   ],
   "source": [
    "df.shape"
   ],
   "metadata": {
    "collapsed": false,
    "ExecuteTime": {
     "end_time": "2024-04-12T09:34:58.119480Z",
     "start_time": "2024-04-12T09:34:58.019057Z"
    }
   },
   "id": "46cef52489e3e01e"
  },
  {
   "cell_type": "code",
   "execution_count": 70,
   "outputs": [
    {
     "data": {
      "text/plain": "Index(['id', 'hosp_admittime', 'hosp_dischtime', 'icu_intime', 'icu_outtime',\n       'los_icu', 'icu_death', 'gender', 'race', 'admission_age',\n       'weight_admit', 'height', 'admission_type', 'first_careunit',\n       'charlson_score', 'atrial_fibrillation', 'malignant_cancer', 'chf',\n       'ckd', 'cld', 'copd', 'diabetes', 'hypertension', 'ihd', 'stroke',\n       'albumin', 'globulin', 'total_protein', 'aniongap', 'bicarbonate',\n       'bun', 'calcium', 'chloride', 'creatinine', 'glucose', 'sodium',\n       'potassium', 'heart_rate', 'sbp', 'dbp', 'mbp', 'resp_rate',\n       'temperature', 'spo2', 'hematocrit', 'hemoglobin', 'mch', 'mchc', 'mcv',\n       'platelet', 'rbc', 'rdw', 'wbc', 'alt', 'ast', 'alp', 'amylase',\n       'bilirubin_total', 'bilirubin_direct', 'bilirubin_indirect', 'ck_cpk',\n       'ck_mb', 'ggt', 'ld_ldh', 'so2', 'po2', 'pco2', 'fio2_chartevents',\n       'aado2', 'aado2_calc', 'pao2fio2ratio', 'ph', 'baseexcess',\n       'bicarbonate_bg', 'totalco2', 'hematocrit_bg', 'hemoglobin_bg',\n       'carboxyhemoglobin', 'methemoglobin', 'chloride_bg', 'calcium_bg',\n       'temperature_bg', 'potassium_bg', 'sodium_bg', 'lactate_bg',\n       'glucose_bg', 'd_dimer', 'fibrinogen', 'thrombin', 'inr', 'pt', 'ptt',\n       'urineoutput'],\n      dtype='object')"
     },
     "execution_count": 70,
     "metadata": {},
     "output_type": "execute_result"
    }
   ],
   "source": [
    "df.columns"
   ],
   "metadata": {
    "collapsed": false,
    "ExecuteTime": {
     "end_time": "2024-04-12T09:34:58.119600Z",
     "start_time": "2024-04-12T09:34:58.022088Z"
    }
   },
   "id": "99469a87cc5b3d5"
  },
  {
   "cell_type": "code",
   "execution_count": 71,
   "outputs": [
    {
     "data": {
      "text/plain": "id                  int64\nhosp_admittime     object\nhosp_dischtime     object\nicu_intime         object\nicu_outtime        object\n                   ...   \nthrombin          float64\ninr               float64\npt                float64\nptt               float64\nurineoutput       float64\nLength: 93, dtype: object"
     },
     "execution_count": 71,
     "metadata": {},
     "output_type": "execute_result"
    }
   ],
   "source": [
    "df.dtypes"
   ],
   "metadata": {
    "collapsed": false,
    "ExecuteTime": {
     "end_time": "2024-04-12T09:34:58.119708Z",
     "start_time": "2024-04-12T09:34:58.024831Z"
    }
   },
   "id": "47eb3573f0c13c38"
  },
  {
   "cell_type": "markdown",
   "source": [
    "## Check Missing"
   ],
   "metadata": {
    "collapsed": false
   },
   "id": "3f6c3fb9c006544d"
  },
  {
   "cell_type": "markdown",
   "source": [
    "Some of the variables have large percentage of missing. Here remove columns with > 90% missing. Set this bar because the dbp, sbp and mbp have 85% missing, and those may have important clinical meaning and prefer to remain them."
   ],
   "metadata": {
    "collapsed": false
   },
   "id": "f846b4fc5284e1ad"
  },
  {
   "cell_type": "code",
   "execution_count": 72,
   "outputs": [
    {
     "data": {
      "text/plain": "          Row Name  Missing Percentage\n0               id            0.000000\n1   hosp_admittime            0.000000\n2   hosp_dischtime            0.000000\n3       icu_intime            0.000000\n4      icu_outtime            0.000000\n..             ...                 ...\n88        thrombin           99.823650\n89             inr           12.511022\n90              pt           12.511022\n91             ptt           13.319291\n92     urineoutput           90.531008\n\n[93 rows x 2 columns]",
      "text/html": "<div>\n<style scoped>\n    .dataframe tbody tr th:only-of-type {\n        vertical-align: middle;\n    }\n\n    .dataframe tbody tr th {\n        vertical-align: top;\n    }\n\n    .dataframe thead th {\n        text-align: right;\n    }\n</style>\n<table border=\"1\" class=\"dataframe\">\n  <thead>\n    <tr style=\"text-align: right;\">\n      <th></th>\n      <th>Row Name</th>\n      <th>Missing Percentage</th>\n    </tr>\n  </thead>\n  <tbody>\n    <tr>\n      <th>0</th>\n      <td>id</td>\n      <td>0.000000</td>\n    </tr>\n    <tr>\n      <th>1</th>\n      <td>hosp_admittime</td>\n      <td>0.000000</td>\n    </tr>\n    <tr>\n      <th>2</th>\n      <td>hosp_dischtime</td>\n      <td>0.000000</td>\n    </tr>\n    <tr>\n      <th>3</th>\n      <td>icu_intime</td>\n      <td>0.000000</td>\n    </tr>\n    <tr>\n      <th>4</th>\n      <td>icu_outtime</td>\n      <td>0.000000</td>\n    </tr>\n    <tr>\n      <th>...</th>\n      <td>...</td>\n      <td>...</td>\n    </tr>\n    <tr>\n      <th>88</th>\n      <td>thrombin</td>\n      <td>99.823650</td>\n    </tr>\n    <tr>\n      <th>89</th>\n      <td>inr</td>\n      <td>12.511022</td>\n    </tr>\n    <tr>\n      <th>90</th>\n      <td>pt</td>\n      <td>12.511022</td>\n    </tr>\n    <tr>\n      <th>91</th>\n      <td>ptt</td>\n      <td>13.319291</td>\n    </tr>\n    <tr>\n      <th>92</th>\n      <td>urineoutput</td>\n      <td>90.531008</td>\n    </tr>\n  </tbody>\n</table>\n<p>93 rows × 2 columns</p>\n</div>"
     },
     "execution_count": 72,
     "metadata": {},
     "output_type": "execute_result"
    }
   ],
   "source": [
    "na_df = df.isnull().sum()*100/len(df)\n",
    "nadf_reset = na_df.reset_index()\n",
    "nadf_reset.columns = ['Row Name', 'Missing Percentage']\n",
    "nadf_reset"
   ],
   "metadata": {
    "collapsed": false,
    "ExecuteTime": {
     "end_time": "2024-04-12T09:34:58.119982Z",
     "start_time": "2024-04-12T09:34:58.026537Z"
    }
   },
   "id": "b042196e57bf7a61"
  },
  {
   "cell_type": "code",
   "execution_count": 73,
   "outputs": [],
   "source": [
    "# remove cols that have more than 90% missing\n",
    "df1 = df.loc[:, df.columns[nadf_reset['Missing Percentage'] < 90]]"
   ],
   "metadata": {
    "collapsed": false,
    "ExecuteTime": {
     "end_time": "2024-04-12T09:34:58.120020Z",
     "start_time": "2024-04-12T09:34:58.048615Z"
    }
   },
   "id": "277da82a28c3f883"
  },
  {
   "cell_type": "markdown",
   "source": [
    "## Dummy Variable"
   ],
   "metadata": {
    "collapsed": false
   },
   "id": "dee5374f4cc9364c"
  },
  {
   "cell_type": "markdown",
   "source": [
    "`gender`, `race`, `admission_type`, and `first_careunit` are changed to dummy.\n",
    "The `race` includes many categories. Now recategorized into 4 major ethnic groups. For UNKNOWN or UNABLE TO OBTAIN or PATIENT DECLINED TO ANSWER, they are defined as the largest ethnic group WHITE.\n",
    "The `admission_type` is recategorized into 3 major admission types.\n"
   ],
   "metadata": {
    "collapsed": false
   },
   "id": "a20f6b34a9037432"
  },
  {
   "cell_type": "code",
   "execution_count": 74,
   "outputs": [],
   "source": [
    "## gender\n",
    "gender_df_wide = pd.get_dummies(df1['gender'], prefix = 'gender', dtype = int)\n",
    "df1 = df1.drop('gender', axis=1)\n",
    "df1 = pd.concat((df1, gender_df_wide), axis = 1)"
   ],
   "metadata": {
    "collapsed": false,
    "ExecuteTime": {
     "end_time": "2024-04-12T09:34:58.120050Z",
     "start_time": "2024-04-12T09:34:58.052438Z"
    }
   },
   "id": "adab3c048d64a8c7"
  },
  {
   "cell_type": "code",
   "execution_count": 75,
   "outputs": [
    {
     "data": {
      "text/plain": "WHITE                                        13133\nBLACK/AFRICAN AMERICAN                        2332\nUNKNOWN                                       1605\nOTHER                                          606\nWHITE - OTHER EUROPEAN                         350\nHISPANIC/LATINO - PUERTO RICAN                 274\nWHITE - RUSSIAN                                247\nASIAN                                          197\nUNABLE TO OBTAIN                               180\nASIAN - CHINESE                                167\nHISPANIC OR LATINO                             164\nHISPANIC/LATINO - DOMINICAN                    142\nBLACK/CAPE VERDEAN                             139\nBLACK/CARIBBEAN ISLAND                         110\nASIAN - SOUTH EAST ASIAN                        93\nPATIENT DECLINED TO ANSWER                      91\nBLACK/AFRICAN                                   89\nPORTUGUESE                                      86\nHISPANIC/LATINO - GUATEMALAN                    50\nAMERICAN INDIAN/ALASKA NATIVE                   50\nASIAN - ASIAN INDIAN                            47\nWHITE - EASTERN EUROPEAN                        37\nNATIVE HAWAIIAN OR OTHER PACIFIC ISLANDER       34\nHISPANIC/LATINO - SALVADORAN                    29\nWHITE - BRAZILIAN                               27\nHISPANIC/LATINO - CUBAN                         24\nMULTIPLE RACE/ETHNICITY                         23\nHISPANIC/LATINO - HONDURAN                      21\nHISPANIC/LATINO - COLUMBIAN                     16\nHISPANIC/LATINO - CENTRAL AMERICAN              14\nSOUTH AMERICAN                                  14\nHISPANIC/LATINO - MEXICAN                       13\nASIAN - KOREAN                                  10\nName: race, dtype: int64"
     },
     "execution_count": 75,
     "metadata": {},
     "output_type": "execute_result"
    }
   ],
   "source": [
    "## race\n",
    "df1['race'].value_counts()"
   ],
   "metadata": {
    "collapsed": false,
    "ExecuteTime": {
     "end_time": "2024-04-12T09:34:58.120414Z",
     "start_time": "2024-04-12T09:34:58.059562Z"
    }
   },
   "id": "d442092290bc5c81"
  },
  {
   "cell_type": "code",
   "execution_count": 76,
   "outputs": [],
   "source": [
    "conditions = [\n",
    "    (df1['race'].str.contains('WHITE', case=False)),\n",
    "    (df1['race'].str.contains('BLACK', case=False)),\n",
    "    (df1['race'].str.contains('HISPANIC', case=False)),\n",
    "    (df1['race'].str.contains('ASIAN', case=False)),\n",
    "    (df1['race'].str.contains('UNKNOWN|UNABLE|DECLINED', case=False)),\n",
    "    (df1['race'].str.contains('OTHER|PORTUGUESE|ALASKA|HAWAIIAN|MULTIPLE|SOUTH AMERICAN', case=False))\n",
    "]\n",
    "values = ['WHITE', 'BLACK', 'HISPANIC/LATINO', 'ASIAN', 'WHITE', 'OTHER']\n",
    "\n",
    "df1['race'] = np.select(conditions, values)"
   ],
   "metadata": {
    "collapsed": false,
    "ExecuteTime": {
     "end_time": "2024-04-12T09:34:58.120499Z",
     "start_time": "2024-04-12T09:34:58.063488Z"
    }
   },
   "id": "80f50eef0162b106"
  },
  {
   "cell_type": "code",
   "execution_count": 77,
   "outputs": [
    {
     "data": {
      "text/plain": "WHITE              15670\nBLACK               2670\nOTHER                813\nHISPANIC/LATINO      747\nASIAN                514\nName: race, dtype: int64"
     },
     "execution_count": 77,
     "metadata": {},
     "output_type": "execute_result"
    }
   ],
   "source": [
    "df1['race'].value_counts()"
   ],
   "metadata": {
    "collapsed": false,
    "ExecuteTime": {
     "end_time": "2024-04-12T09:34:58.120579Z",
     "start_time": "2024-04-12T09:34:58.098383Z"
    }
   },
   "id": "3856a82316cd1c8d"
  },
  {
   "cell_type": "code",
   "execution_count": 78,
   "outputs": [],
   "source": [
    "race_df_wide = pd.get_dummies(df1['race'], prefix = 'race', dtype = int)\n",
    "df1 = df1.drop('race', axis=1)\n",
    "df1 = pd.concat((df1, race_df_wide), axis = 1)"
   ],
   "metadata": {
    "collapsed": false,
    "ExecuteTime": {
     "end_time": "2024-04-12T09:34:58.120866Z",
     "start_time": "2024-04-12T09:34:58.101301Z"
    }
   },
   "id": "f0698230080d8a78"
  },
  {
   "cell_type": "code",
   "execution_count": 79,
   "outputs": [
    {
     "data": {
      "text/plain": "EW EMER.                       11400\nURGENT                          3630\nOBSERVATION ADMIT               2486\nSURGICAL SAME DAY ADMISSION     1411\nDIRECT EMER.                     878\nELECTIVE                         592\nEU OBSERVATION                    13\nDIRECT OBSERVATION                 4\nName: admission_type, dtype: int64"
     },
     "execution_count": 79,
     "metadata": {},
     "output_type": "execute_result"
    }
   ],
   "source": [
    "## admission type\n",
    "df['admission_type'].value_counts()"
   ],
   "metadata": {
    "collapsed": false,
    "ExecuteTime": {
     "end_time": "2024-04-12T09:34:58.120955Z",
     "start_time": "2024-04-12T09:34:58.110397Z"
    }
   },
   "id": "a3e0cf400dac8e3d"
  },
  {
   "cell_type": "code",
   "execution_count": 80,
   "outputs": [],
   "source": [
    "conditions = [\n",
    "    (df1['admission_type'].str.contains('EMER', case=False)),\n",
    "    (df1['admission_type'].str.contains('URGENT|SURGICAL', case=False)),\n",
    "    (df1['admission_type'].str.contains('ELECTIVE|OBSERVATION', case=False))\n",
    "]\n",
    "values = ['EMERGENCY', 'URGENT', 'ELECTIVE']\n",
    "\n",
    "df1['admission_type'] = np.select(conditions, values)"
   ],
   "metadata": {
    "collapsed": false,
    "ExecuteTime": {
     "end_time": "2024-04-12T09:34:58.166187Z",
     "start_time": "2024-04-12T09:34:58.133984Z"
    }
   },
   "id": "31ea03d9ad84085f"
  },
  {
   "cell_type": "code",
   "execution_count": 81,
   "outputs": [],
   "source": [
    "adm_df_wide = pd.get_dummies(df1['admission_type'], prefix = 'admtyp', dtype = int)\n",
    "df1 = df1.drop('admission_type', axis=1)\n",
    "df1 = pd.concat((df1, adm_df_wide), axis = 1)"
   ],
   "metadata": {
    "collapsed": false,
    "ExecuteTime": {
     "end_time": "2024-04-12T09:34:58.207252Z",
     "start_time": "2024-04-12T09:34:58.136534Z"
    }
   },
   "id": "9e6133f2c79e4a0f"
  },
  {
   "cell_type": "code",
   "execution_count": 82,
   "outputs": [
    {
     "data": {
      "text/plain": "Medical Intensive Care Unit (MICU)                  5374\nMedical/Surgical Intensive Care Unit (MICU/SICU)    3952\nSurgical Intensive Care Unit (SICU)                 3100\nCoronary Care Unit (CCU)                            2475\nTrauma SICU (TSICU)                                 2452\nCardiac Vascular Intensive Care Unit (CVICU)        2422\nNeuro Surgical Intensive Care Unit (Neuro SICU)      435\nNeuro Intermediate                                   145\nNeuro Stepdown                                        59\nName: first_careunit, dtype: int64"
     },
     "execution_count": 82,
     "metadata": {},
     "output_type": "execute_result"
    }
   ],
   "source": [
    "## first care unit\n",
    "df1['first_careunit'].value_counts()"
   ],
   "metadata": {
    "collapsed": false,
    "ExecuteTime": {
     "end_time": "2024-04-12T09:34:58.207565Z",
     "start_time": "2024-04-12T09:34:58.143921Z"
    }
   },
   "id": "32007765b42183ce"
  },
  {
   "cell_type": "code",
   "execution_count": 83,
   "outputs": [],
   "source": [
    "conditions = [\n",
    "    (df1['first_careunit'].str.contains('MEDICAL|SURGICAL', case=False)),\n",
    "    (df1['first_careunit'].str.contains('NEURO', case=False)),\n",
    "    (df1['first_careunit'].str.contains('CORONARY', case=False)),\n",
    "    (df1['first_careunit'].str.contains('TRAUMA', case=False)),\n",
    "    (df1['first_careunit'].str.contains('CARDIAC', case=False))\n",
    "]\n",
    "values = ['MEDICAL/SURGICAL', 'NEURO', 'CORONARY', 'TRAUMA', 'CARDIAC']\n",
    "\n",
    "df1['first_careunit'] = np.select(conditions, values)"
   ],
   "metadata": {
    "collapsed": false,
    "ExecuteTime": {
     "end_time": "2024-04-12T09:34:58.209611Z",
     "start_time": "2024-04-12T09:34:58.170537Z"
    }
   },
   "id": "ead7beb3e4e584ab"
  },
  {
   "cell_type": "code",
   "execution_count": 84,
   "outputs": [],
   "source": [
    "fc_df_wide = pd.get_dummies(df1['first_careunit'], prefix = 'firstcare', dtype = int)\n",
    "df1 = df1.drop('first_careunit', axis=1)\n",
    "df1 = pd.concat((df1, fc_df_wide), axis = 1)"
   ],
   "metadata": {
    "collapsed": false,
    "ExecuteTime": {
     "end_time": "2024-04-12T09:34:58.238230Z",
     "start_time": "2024-04-12T09:34:58.192009Z"
    }
   },
   "id": "671b11533a5ae096"
  },
  {
   "cell_type": "markdown",
   "source": [
    "## Normalization"
   ],
   "metadata": {
    "collapsed": false
   },
   "id": "9a6952b299686a6b"
  },
  {
   "cell_type": "code",
   "execution_count": 85,
   "outputs": [],
   "source": [
    "df2 = df1"
   ],
   "metadata": {
    "collapsed": false,
    "ExecuteTime": {
     "end_time": "2024-04-12T09:34:58.238384Z",
     "start_time": "2024-04-12T09:34:58.200160Z"
    }
   },
   "id": "b772fe2da2176016"
  },
  {
   "cell_type": "code",
   "execution_count": 86,
   "outputs": [],
   "source": [
    "## Normalization\n",
    "def normalize_column(x):\n",
    "        return (x - x.mean()) / x.std()\n",
    "\n",
    "cols_norm1 = ['admission_age', 'weight_admit', 'height', 'charlson_score']\n",
    "\n",
    "df2[cols_norm1] = df2[cols_norm1].apply(normalize_column)\n",
    "df2.loc[:, 'albumin':'ptt'] = df2.loc[:, 'albumin':'ptt'].apply(normalize_column)"
   ],
   "metadata": {
    "collapsed": false,
    "ExecuteTime": {
     "end_time": "2024-04-12T09:34:58.582542Z",
     "start_time": "2024-04-12T09:34:58.203210Z"
    }
   },
   "id": "2fb2a5befdc55e19"
  },
  {
   "cell_type": "code",
   "execution_count": 87,
   "outputs": [
    {
     "data": {
      "text/plain": "             id hosp_admittime  hosp_dischtime     icu_intime     icu_outtime  \\\n0      24099382   6/11/11 7:15   6/18/11 21:45  6/11/11 14:31   6/13/11 18:05   \n1      27824879  9/30/28 20:55  10/10/28 15:54  9/30/28 20:58   10/5/28 18:39   \n2      27146619   9/20/41 0:34   9/22/41 12:05   9/20/41 7:13   9/21/41 18:10   \n3      22476441  10/8/73 16:46  10/16/73 13:05  10/8/73 18:28  10/10/73 13:26   \n4      23169158   3/12/27 1:19   3/19/27 13:15   3/12/27 2:43    3/15/27 1:53   \n...         ...            ...             ...            ...             ...   \n20409  29968077   9/12/59 6:20   10/5/59 15:41   9/12/59 7:45   9/18/59 16:55   \n20410  29975784  8/30/36 15:18    9/2/36 16:15  8/30/36 16:48    9/1/36 10:41   \n20411  29987115  2/16/48 17:42   2/20/48 19:00  2/16/48 17:43   2/20/48 21:00   \n20412  29990494  5/10/71 12:05   6/16/71 13:45  5/17/71 22:16   5/28/71 20:41   \n20413  29994623  7/24/37 18:54   7/26/37 16:55  7/24/37 21:38   7/26/37 17:15   \n\n       los_icu  icu_death  admission_age  weight_admit    height  ...  \\\n0         2.15          0      -0.560507      0.230368  0.051240  ...   \n1         4.90          0       0.806297     -1.076268       NaN  ...   \n2         1.46          0       0.932592     -0.935010       NaN  ...   \n3         1.79          0      -0.218748     -0.419419 -0.873545  ...   \n4         2.97          0       1.091332     -0.225189 -0.873545  ...   \n...        ...        ...            ...           ...       ...  ...   \n20409     6.38          0       0.418001      1.296866  0.051240  ...   \n20410     1.75          0       1.249892     -0.571271       NaN  ...   \n20411     4.14          1      -1.542852     -0.652494 -1.613373  ...   \n20412    10.93          0      -0.630271      0.576450 -0.133717  ...   \n20413     1.82          0       0.730143     -0.458264 -0.133717  ...   \n\n       race_OTHER  race_WHITE  admtyp_ELECTIVE  admtyp_EMERGENCY  \\\n0               1           0                1                 0   \n1               0           1                0                 1   \n2               0           1                0                 1   \n3               0           0                0                 1   \n4               0           1                1                 0   \n...           ...         ...              ...               ...   \n20409           0           1                0                 1   \n20410           0           1                0                 1   \n20411           0           1                0                 0   \n20412           0           1                0                 1   \n20413           0           1                0                 1   \n\n       admtyp_URGENT  firstcare_CARDIAC  firstcare_CORONARY  \\\n0                  0                  0                   0   \n1                  0                  0                   0   \n2                  0                  0                   0   \n3                  0                  0                   0   \n4                  0                  0                   0   \n...              ...                ...                 ...   \n20409              0                  0                   1   \n20410              0                  0                   0   \n20411              1                  0                   0   \n20412              0                  0                   0   \n20413              0                  0                   1   \n\n       firstcare_MEDICAL/SURGICAL  firstcare_NEURO  firstcare_TRAUMA  \n0                               0                0                 1  \n1                               0                0                 1  \n2                               1                0                 0  \n3                               1                0                 0  \n4                               1                0                 0  \n...                           ...              ...               ...  \n20409                           0                0                 0  \n20410                           1                0                 0  \n20411                           1                0                 0  \n20412                           1                0                 0  \n20413                           0                0                 0  \n\n[20414 rows x 72 columns]",
      "text/html": "<div>\n<style scoped>\n    .dataframe tbody tr th:only-of-type {\n        vertical-align: middle;\n    }\n\n    .dataframe tbody tr th {\n        vertical-align: top;\n    }\n\n    .dataframe thead th {\n        text-align: right;\n    }\n</style>\n<table border=\"1\" class=\"dataframe\">\n  <thead>\n    <tr style=\"text-align: right;\">\n      <th></th>\n      <th>id</th>\n      <th>hosp_admittime</th>\n      <th>hosp_dischtime</th>\n      <th>icu_intime</th>\n      <th>icu_outtime</th>\n      <th>los_icu</th>\n      <th>icu_death</th>\n      <th>admission_age</th>\n      <th>weight_admit</th>\n      <th>height</th>\n      <th>...</th>\n      <th>race_OTHER</th>\n      <th>race_WHITE</th>\n      <th>admtyp_ELECTIVE</th>\n      <th>admtyp_EMERGENCY</th>\n      <th>admtyp_URGENT</th>\n      <th>firstcare_CARDIAC</th>\n      <th>firstcare_CORONARY</th>\n      <th>firstcare_MEDICAL/SURGICAL</th>\n      <th>firstcare_NEURO</th>\n      <th>firstcare_TRAUMA</th>\n    </tr>\n  </thead>\n  <tbody>\n    <tr>\n      <th>0</th>\n      <td>24099382</td>\n      <td>6/11/11 7:15</td>\n      <td>6/18/11 21:45</td>\n      <td>6/11/11 14:31</td>\n      <td>6/13/11 18:05</td>\n      <td>2.15</td>\n      <td>0</td>\n      <td>-0.560507</td>\n      <td>0.230368</td>\n      <td>0.051240</td>\n      <td>...</td>\n      <td>1</td>\n      <td>0</td>\n      <td>1</td>\n      <td>0</td>\n      <td>0</td>\n      <td>0</td>\n      <td>0</td>\n      <td>0</td>\n      <td>0</td>\n      <td>1</td>\n    </tr>\n    <tr>\n      <th>1</th>\n      <td>27824879</td>\n      <td>9/30/28 20:55</td>\n      <td>10/10/28 15:54</td>\n      <td>9/30/28 20:58</td>\n      <td>10/5/28 18:39</td>\n      <td>4.90</td>\n      <td>0</td>\n      <td>0.806297</td>\n      <td>-1.076268</td>\n      <td>NaN</td>\n      <td>...</td>\n      <td>0</td>\n      <td>1</td>\n      <td>0</td>\n      <td>1</td>\n      <td>0</td>\n      <td>0</td>\n      <td>0</td>\n      <td>0</td>\n      <td>0</td>\n      <td>1</td>\n    </tr>\n    <tr>\n      <th>2</th>\n      <td>27146619</td>\n      <td>9/20/41 0:34</td>\n      <td>9/22/41 12:05</td>\n      <td>9/20/41 7:13</td>\n      <td>9/21/41 18:10</td>\n      <td>1.46</td>\n      <td>0</td>\n      <td>0.932592</td>\n      <td>-0.935010</td>\n      <td>NaN</td>\n      <td>...</td>\n      <td>0</td>\n      <td>1</td>\n      <td>0</td>\n      <td>1</td>\n      <td>0</td>\n      <td>0</td>\n      <td>0</td>\n      <td>1</td>\n      <td>0</td>\n      <td>0</td>\n    </tr>\n    <tr>\n      <th>3</th>\n      <td>22476441</td>\n      <td>10/8/73 16:46</td>\n      <td>10/16/73 13:05</td>\n      <td>10/8/73 18:28</td>\n      <td>10/10/73 13:26</td>\n      <td>1.79</td>\n      <td>0</td>\n      <td>-0.218748</td>\n      <td>-0.419419</td>\n      <td>-0.873545</td>\n      <td>...</td>\n      <td>0</td>\n      <td>0</td>\n      <td>0</td>\n      <td>1</td>\n      <td>0</td>\n      <td>0</td>\n      <td>0</td>\n      <td>1</td>\n      <td>0</td>\n      <td>0</td>\n    </tr>\n    <tr>\n      <th>4</th>\n      <td>23169158</td>\n      <td>3/12/27 1:19</td>\n      <td>3/19/27 13:15</td>\n      <td>3/12/27 2:43</td>\n      <td>3/15/27 1:53</td>\n      <td>2.97</td>\n      <td>0</td>\n      <td>1.091332</td>\n      <td>-0.225189</td>\n      <td>-0.873545</td>\n      <td>...</td>\n      <td>0</td>\n      <td>1</td>\n      <td>1</td>\n      <td>0</td>\n      <td>0</td>\n      <td>0</td>\n      <td>0</td>\n      <td>1</td>\n      <td>0</td>\n      <td>0</td>\n    </tr>\n    <tr>\n      <th>...</th>\n      <td>...</td>\n      <td>...</td>\n      <td>...</td>\n      <td>...</td>\n      <td>...</td>\n      <td>...</td>\n      <td>...</td>\n      <td>...</td>\n      <td>...</td>\n      <td>...</td>\n      <td>...</td>\n      <td>...</td>\n      <td>...</td>\n      <td>...</td>\n      <td>...</td>\n      <td>...</td>\n      <td>...</td>\n      <td>...</td>\n      <td>...</td>\n      <td>...</td>\n      <td>...</td>\n    </tr>\n    <tr>\n      <th>20409</th>\n      <td>29968077</td>\n      <td>9/12/59 6:20</td>\n      <td>10/5/59 15:41</td>\n      <td>9/12/59 7:45</td>\n      <td>9/18/59 16:55</td>\n      <td>6.38</td>\n      <td>0</td>\n      <td>0.418001</td>\n      <td>1.296866</td>\n      <td>0.051240</td>\n      <td>...</td>\n      <td>0</td>\n      <td>1</td>\n      <td>0</td>\n      <td>1</td>\n      <td>0</td>\n      <td>0</td>\n      <td>1</td>\n      <td>0</td>\n      <td>0</td>\n      <td>0</td>\n    </tr>\n    <tr>\n      <th>20410</th>\n      <td>29975784</td>\n      <td>8/30/36 15:18</td>\n      <td>9/2/36 16:15</td>\n      <td>8/30/36 16:48</td>\n      <td>9/1/36 10:41</td>\n      <td>1.75</td>\n      <td>0</td>\n      <td>1.249892</td>\n      <td>-0.571271</td>\n      <td>NaN</td>\n      <td>...</td>\n      <td>0</td>\n      <td>1</td>\n      <td>0</td>\n      <td>1</td>\n      <td>0</td>\n      <td>0</td>\n      <td>0</td>\n      <td>1</td>\n      <td>0</td>\n      <td>0</td>\n    </tr>\n    <tr>\n      <th>20411</th>\n      <td>29987115</td>\n      <td>2/16/48 17:42</td>\n      <td>2/20/48 19:00</td>\n      <td>2/16/48 17:43</td>\n      <td>2/20/48 21:00</td>\n      <td>4.14</td>\n      <td>1</td>\n      <td>-1.542852</td>\n      <td>-0.652494</td>\n      <td>-1.613373</td>\n      <td>...</td>\n      <td>0</td>\n      <td>1</td>\n      <td>0</td>\n      <td>0</td>\n      <td>1</td>\n      <td>0</td>\n      <td>0</td>\n      <td>1</td>\n      <td>0</td>\n      <td>0</td>\n    </tr>\n    <tr>\n      <th>20412</th>\n      <td>29990494</td>\n      <td>5/10/71 12:05</td>\n      <td>6/16/71 13:45</td>\n      <td>5/17/71 22:16</td>\n      <td>5/28/71 20:41</td>\n      <td>10.93</td>\n      <td>0</td>\n      <td>-0.630271</td>\n      <td>0.576450</td>\n      <td>-0.133717</td>\n      <td>...</td>\n      <td>0</td>\n      <td>1</td>\n      <td>0</td>\n      <td>1</td>\n      <td>0</td>\n      <td>0</td>\n      <td>0</td>\n      <td>1</td>\n      <td>0</td>\n      <td>0</td>\n    </tr>\n    <tr>\n      <th>20413</th>\n      <td>29994623</td>\n      <td>7/24/37 18:54</td>\n      <td>7/26/37 16:55</td>\n      <td>7/24/37 21:38</td>\n      <td>7/26/37 17:15</td>\n      <td>1.82</td>\n      <td>0</td>\n      <td>0.730143</td>\n      <td>-0.458264</td>\n      <td>-0.133717</td>\n      <td>...</td>\n      <td>0</td>\n      <td>1</td>\n      <td>0</td>\n      <td>1</td>\n      <td>0</td>\n      <td>0</td>\n      <td>1</td>\n      <td>0</td>\n      <td>0</td>\n      <td>0</td>\n    </tr>\n  </tbody>\n</table>\n<p>20414 rows × 72 columns</p>\n</div>"
     },
     "execution_count": 87,
     "metadata": {},
     "output_type": "execute_result"
    }
   ],
   "source": [
    "df2"
   ],
   "metadata": {
    "collapsed": false,
    "ExecuteTime": {
     "end_time": "2024-04-12T09:34:58.863889Z",
     "start_time": "2024-04-12T09:34:58.232560Z"
    }
   },
   "id": "c08e8c4ffef18b8b"
  },
  {
   "cell_type": "code",
   "execution_count": 88,
   "outputs": [],
   "source": [
    "# def transform_value(value):\n",
    "#     if value >= 8:\n",
    "#         return 100\n",
    "#     if value >= 7:\n",
    "#         return 7\n",
    "#     elif value >= 6:\n",
    "#         return 6\n",
    "#     elif value >= 5:\n",
    "#         return 5\n",
    "#     elif value >= 4:\n",
    "#         return 4\n",
    "#     elif value >= 3:\n",
    "#         return 3\n",
    "#     elif value >= 2:\n",
    "#         return 2\n",
    "#     elif value >= 1:\n",
    "#         return 1\n",
    "#     elif value >= 0:\n",
    "#         return 0\n",
    "#     else:\n",
    "#         return None\n",
    "# \n",
    "# df2['loscat'] = df2['los_icu'].apply(transform_value)"
   ],
   "metadata": {
    "collapsed": false,
    "ExecuteTime": {
     "end_time": "2024-04-12T09:34:58.865318Z",
     "start_time": "2024-04-12T09:34:58.241801Z"
    }
   },
   "id": "5b9fc42ff7efde2c"
  },
  {
   "cell_type": "code",
   "execution_count": 89,
   "outputs": [],
   "source": [
    "# df2['loscat'].value_counts()"
   ],
   "metadata": {
    "collapsed": false,
    "ExecuteTime": {
     "end_time": "2024-04-12T09:34:58.865595Z",
     "start_time": "2024-04-12T09:34:58.243557Z"
    }
   },
   "id": "fd10efce4c77eb71"
  },
  {
   "cell_type": "code",
   "execution_count": 90,
   "outputs": [],
   "source": [
    "# df2['loscat1'] = df2['los_icu'].apply(lambda x: 0 if x < 14 else 1)\n",
    "# df2['loscat1'].value_counts()"
   ],
   "metadata": {
    "collapsed": false,
    "ExecuteTime": {
     "end_time": "2024-04-12T09:34:58.865742Z",
     "start_time": "2024-04-12T09:34:58.245285Z"
    }
   },
   "id": "5ccf5f2d5fb4ee3f"
  },
  {
   "cell_type": "markdown",
   "source": [
    "## KNN Imputation"
   ],
   "metadata": {
    "collapsed": false
   },
   "id": "ad9fbb75f4422b54"
  },
  {
   "cell_type": "code",
   "execution_count": 91,
   "outputs": [],
   "source": [
    "imputer = KNNImputer(n_neighbors=3, weights='uniform', metric='nan_euclidean')\n",
    "df_impute = df2.loc[:, 'admission_age':]\n",
    "df_impute1 = imputer.fit_transform(df_impute)"
   ],
   "metadata": {
    "collapsed": false,
    "ExecuteTime": {
     "end_time": "2024-04-12T09:36:05.256287Z",
     "start_time": "2024-04-12T09:34:58.253978Z"
    }
   },
   "id": "753968c2fb89e089"
  },
  {
   "cell_type": "code",
   "execution_count": 92,
   "outputs": [],
   "source": [
    "df2 = df2.drop(df_impute.columns, axis=1)\n",
    "df_impute1 = pd.DataFrame(df_impute1)\n",
    "df_impute1.columns = df_impute.columns\n",
    "df2 = pd.concat((df2, df_impute1), axis=1)"
   ],
   "metadata": {
    "collapsed": false,
    "ExecuteTime": {
     "end_time": "2024-04-12T09:36:05.271793Z",
     "start_time": "2024-04-12T09:36:05.255266Z"
    }
   },
   "id": "c006196a715bc4f2"
  },
  {
   "cell_type": "code",
   "execution_count": 93,
   "outputs": [
    {
     "data": {
      "text/plain": "             id hosp_admittime  hosp_dischtime     icu_intime     icu_outtime  \\\n0      24099382   6/11/11 7:15   6/18/11 21:45  6/11/11 14:31   6/13/11 18:05   \n1      27824879  9/30/28 20:55  10/10/28 15:54  9/30/28 20:58   10/5/28 18:39   \n2      27146619   9/20/41 0:34   9/22/41 12:05   9/20/41 7:13   9/21/41 18:10   \n3      22476441  10/8/73 16:46  10/16/73 13:05  10/8/73 18:28  10/10/73 13:26   \n4      23169158   3/12/27 1:19   3/19/27 13:15   3/12/27 2:43    3/15/27 1:53   \n...         ...            ...             ...            ...             ...   \n20409  29968077   9/12/59 6:20   10/5/59 15:41   9/12/59 7:45   9/18/59 16:55   \n20410  29975784  8/30/36 15:18    9/2/36 16:15  8/30/36 16:48    9/1/36 10:41   \n20411  29987115  2/16/48 17:42   2/20/48 19:00  2/16/48 17:43   2/20/48 21:00   \n20412  29990494  5/10/71 12:05   6/16/71 13:45  5/17/71 22:16   5/28/71 20:41   \n20413  29994623  7/24/37 18:54   7/26/37 16:55  7/24/37 21:38   7/26/37 17:15   \n\n       los_icu  icu_death  admission_age  weight_admit    height  ...  \\\n0         2.15          0      -0.560507      0.230368  0.051240  ...   \n1         4.90          0       0.806297     -1.076268 -0.842718  ...   \n2         1.46          0       0.932592     -0.935010 -0.472804  ...   \n3         1.79          0      -0.218748     -0.419419 -0.873545  ...   \n4         2.97          0       1.091332     -0.225189 -0.873545  ...   \n...        ...        ...            ...           ...       ...  ...   \n20409     6.38          0       0.418001      1.296866  0.051240  ...   \n20410     1.75          0       1.249892     -0.571271  1.931637  ...   \n20411     4.14          1      -1.542852     -0.652494 -1.613373  ...   \n20412    10.93          0      -0.630271      0.576450 -0.133717  ...   \n20413     1.82          0       0.730143     -0.458264 -0.133717  ...   \n\n       race_OTHER  race_WHITE  admtyp_ELECTIVE  admtyp_EMERGENCY  \\\n0             1.0         0.0              1.0               0.0   \n1             0.0         1.0              0.0               1.0   \n2             0.0         1.0              0.0               1.0   \n3             0.0         0.0              0.0               1.0   \n4             0.0         1.0              1.0               0.0   \n...           ...         ...              ...               ...   \n20409         0.0         1.0              0.0               1.0   \n20410         0.0         1.0              0.0               1.0   \n20411         0.0         1.0              0.0               0.0   \n20412         0.0         1.0              0.0               1.0   \n20413         0.0         1.0              0.0               1.0   \n\n       admtyp_URGENT  firstcare_CARDIAC  firstcare_CORONARY  \\\n0                0.0                0.0                 0.0   \n1                0.0                0.0                 0.0   \n2                0.0                0.0                 0.0   \n3                0.0                0.0                 0.0   \n4                0.0                0.0                 0.0   \n...              ...                ...                 ...   \n20409            0.0                0.0                 1.0   \n20410            0.0                0.0                 0.0   \n20411            1.0                0.0                 0.0   \n20412            0.0                0.0                 0.0   \n20413            0.0                0.0                 1.0   \n\n       firstcare_MEDICAL/SURGICAL  firstcare_NEURO  firstcare_TRAUMA  \n0                             0.0              0.0               1.0  \n1                             0.0              0.0               1.0  \n2                             1.0              0.0               0.0  \n3                             1.0              0.0               0.0  \n4                             1.0              0.0               0.0  \n...                           ...              ...               ...  \n20409                         0.0              0.0               0.0  \n20410                         1.0              0.0               0.0  \n20411                         1.0              0.0               0.0  \n20412                         1.0              0.0               0.0  \n20413                         0.0              0.0               0.0  \n\n[20414 rows x 72 columns]",
      "text/html": "<div>\n<style scoped>\n    .dataframe tbody tr th:only-of-type {\n        vertical-align: middle;\n    }\n\n    .dataframe tbody tr th {\n        vertical-align: top;\n    }\n\n    .dataframe thead th {\n        text-align: right;\n    }\n</style>\n<table border=\"1\" class=\"dataframe\">\n  <thead>\n    <tr style=\"text-align: right;\">\n      <th></th>\n      <th>id</th>\n      <th>hosp_admittime</th>\n      <th>hosp_dischtime</th>\n      <th>icu_intime</th>\n      <th>icu_outtime</th>\n      <th>los_icu</th>\n      <th>icu_death</th>\n      <th>admission_age</th>\n      <th>weight_admit</th>\n      <th>height</th>\n      <th>...</th>\n      <th>race_OTHER</th>\n      <th>race_WHITE</th>\n      <th>admtyp_ELECTIVE</th>\n      <th>admtyp_EMERGENCY</th>\n      <th>admtyp_URGENT</th>\n      <th>firstcare_CARDIAC</th>\n      <th>firstcare_CORONARY</th>\n      <th>firstcare_MEDICAL/SURGICAL</th>\n      <th>firstcare_NEURO</th>\n      <th>firstcare_TRAUMA</th>\n    </tr>\n  </thead>\n  <tbody>\n    <tr>\n      <th>0</th>\n      <td>24099382</td>\n      <td>6/11/11 7:15</td>\n      <td>6/18/11 21:45</td>\n      <td>6/11/11 14:31</td>\n      <td>6/13/11 18:05</td>\n      <td>2.15</td>\n      <td>0</td>\n      <td>-0.560507</td>\n      <td>0.230368</td>\n      <td>0.051240</td>\n      <td>...</td>\n      <td>1.0</td>\n      <td>0.0</td>\n      <td>1.0</td>\n      <td>0.0</td>\n      <td>0.0</td>\n      <td>0.0</td>\n      <td>0.0</td>\n      <td>0.0</td>\n      <td>0.0</td>\n      <td>1.0</td>\n    </tr>\n    <tr>\n      <th>1</th>\n      <td>27824879</td>\n      <td>9/30/28 20:55</td>\n      <td>10/10/28 15:54</td>\n      <td>9/30/28 20:58</td>\n      <td>10/5/28 18:39</td>\n      <td>4.90</td>\n      <td>0</td>\n      <td>0.806297</td>\n      <td>-1.076268</td>\n      <td>-0.842718</td>\n      <td>...</td>\n      <td>0.0</td>\n      <td>1.0</td>\n      <td>0.0</td>\n      <td>1.0</td>\n      <td>0.0</td>\n      <td>0.0</td>\n      <td>0.0</td>\n      <td>0.0</td>\n      <td>0.0</td>\n      <td>1.0</td>\n    </tr>\n    <tr>\n      <th>2</th>\n      <td>27146619</td>\n      <td>9/20/41 0:34</td>\n      <td>9/22/41 12:05</td>\n      <td>9/20/41 7:13</td>\n      <td>9/21/41 18:10</td>\n      <td>1.46</td>\n      <td>0</td>\n      <td>0.932592</td>\n      <td>-0.935010</td>\n      <td>-0.472804</td>\n      <td>...</td>\n      <td>0.0</td>\n      <td>1.0</td>\n      <td>0.0</td>\n      <td>1.0</td>\n      <td>0.0</td>\n      <td>0.0</td>\n      <td>0.0</td>\n      <td>1.0</td>\n      <td>0.0</td>\n      <td>0.0</td>\n    </tr>\n    <tr>\n      <th>3</th>\n      <td>22476441</td>\n      <td>10/8/73 16:46</td>\n      <td>10/16/73 13:05</td>\n      <td>10/8/73 18:28</td>\n      <td>10/10/73 13:26</td>\n      <td>1.79</td>\n      <td>0</td>\n      <td>-0.218748</td>\n      <td>-0.419419</td>\n      <td>-0.873545</td>\n      <td>...</td>\n      <td>0.0</td>\n      <td>0.0</td>\n      <td>0.0</td>\n      <td>1.0</td>\n      <td>0.0</td>\n      <td>0.0</td>\n      <td>0.0</td>\n      <td>1.0</td>\n      <td>0.0</td>\n      <td>0.0</td>\n    </tr>\n    <tr>\n      <th>4</th>\n      <td>23169158</td>\n      <td>3/12/27 1:19</td>\n      <td>3/19/27 13:15</td>\n      <td>3/12/27 2:43</td>\n      <td>3/15/27 1:53</td>\n      <td>2.97</td>\n      <td>0</td>\n      <td>1.091332</td>\n      <td>-0.225189</td>\n      <td>-0.873545</td>\n      <td>...</td>\n      <td>0.0</td>\n      <td>1.0</td>\n      <td>1.0</td>\n      <td>0.0</td>\n      <td>0.0</td>\n      <td>0.0</td>\n      <td>0.0</td>\n      <td>1.0</td>\n      <td>0.0</td>\n      <td>0.0</td>\n    </tr>\n    <tr>\n      <th>...</th>\n      <td>...</td>\n      <td>...</td>\n      <td>...</td>\n      <td>...</td>\n      <td>...</td>\n      <td>...</td>\n      <td>...</td>\n      <td>...</td>\n      <td>...</td>\n      <td>...</td>\n      <td>...</td>\n      <td>...</td>\n      <td>...</td>\n      <td>...</td>\n      <td>...</td>\n      <td>...</td>\n      <td>...</td>\n      <td>...</td>\n      <td>...</td>\n      <td>...</td>\n      <td>...</td>\n    </tr>\n    <tr>\n      <th>20409</th>\n      <td>29968077</td>\n      <td>9/12/59 6:20</td>\n      <td>10/5/59 15:41</td>\n      <td>9/12/59 7:45</td>\n      <td>9/18/59 16:55</td>\n      <td>6.38</td>\n      <td>0</td>\n      <td>0.418001</td>\n      <td>1.296866</td>\n      <td>0.051240</td>\n      <td>...</td>\n      <td>0.0</td>\n      <td>1.0</td>\n      <td>0.0</td>\n      <td>1.0</td>\n      <td>0.0</td>\n      <td>0.0</td>\n      <td>1.0</td>\n      <td>0.0</td>\n      <td>0.0</td>\n      <td>0.0</td>\n    </tr>\n    <tr>\n      <th>20410</th>\n      <td>29975784</td>\n      <td>8/30/36 15:18</td>\n      <td>9/2/36 16:15</td>\n      <td>8/30/36 16:48</td>\n      <td>9/1/36 10:41</td>\n      <td>1.75</td>\n      <td>0</td>\n      <td>1.249892</td>\n      <td>-0.571271</td>\n      <td>1.931637</td>\n      <td>...</td>\n      <td>0.0</td>\n      <td>1.0</td>\n      <td>0.0</td>\n      <td>1.0</td>\n      <td>0.0</td>\n      <td>0.0</td>\n      <td>0.0</td>\n      <td>1.0</td>\n      <td>0.0</td>\n      <td>0.0</td>\n    </tr>\n    <tr>\n      <th>20411</th>\n      <td>29987115</td>\n      <td>2/16/48 17:42</td>\n      <td>2/20/48 19:00</td>\n      <td>2/16/48 17:43</td>\n      <td>2/20/48 21:00</td>\n      <td>4.14</td>\n      <td>1</td>\n      <td>-1.542852</td>\n      <td>-0.652494</td>\n      <td>-1.613373</td>\n      <td>...</td>\n      <td>0.0</td>\n      <td>1.0</td>\n      <td>0.0</td>\n      <td>0.0</td>\n      <td>1.0</td>\n      <td>0.0</td>\n      <td>0.0</td>\n      <td>1.0</td>\n      <td>0.0</td>\n      <td>0.0</td>\n    </tr>\n    <tr>\n      <th>20412</th>\n      <td>29990494</td>\n      <td>5/10/71 12:05</td>\n      <td>6/16/71 13:45</td>\n      <td>5/17/71 22:16</td>\n      <td>5/28/71 20:41</td>\n      <td>10.93</td>\n      <td>0</td>\n      <td>-0.630271</td>\n      <td>0.576450</td>\n      <td>-0.133717</td>\n      <td>...</td>\n      <td>0.0</td>\n      <td>1.0</td>\n      <td>0.0</td>\n      <td>1.0</td>\n      <td>0.0</td>\n      <td>0.0</td>\n      <td>0.0</td>\n      <td>1.0</td>\n      <td>0.0</td>\n      <td>0.0</td>\n    </tr>\n    <tr>\n      <th>20413</th>\n      <td>29994623</td>\n      <td>7/24/37 18:54</td>\n      <td>7/26/37 16:55</td>\n      <td>7/24/37 21:38</td>\n      <td>7/26/37 17:15</td>\n      <td>1.82</td>\n      <td>0</td>\n      <td>0.730143</td>\n      <td>-0.458264</td>\n      <td>-0.133717</td>\n      <td>...</td>\n      <td>0.0</td>\n      <td>1.0</td>\n      <td>0.0</td>\n      <td>1.0</td>\n      <td>0.0</td>\n      <td>0.0</td>\n      <td>1.0</td>\n      <td>0.0</td>\n      <td>0.0</td>\n      <td>0.0</td>\n    </tr>\n  </tbody>\n</table>\n<p>20414 rows × 72 columns</p>\n</div>"
     },
     "execution_count": 93,
     "metadata": {},
     "output_type": "execute_result"
    }
   ],
   "source": [
    "df2"
   ],
   "metadata": {
    "collapsed": false,
    "ExecuteTime": {
     "end_time": "2024-04-12T09:36:05.295791Z",
     "start_time": "2024-04-12T09:36:05.273334Z"
    }
   },
   "id": "8c3f9f8d82520c83"
  },
  {
   "cell_type": "markdown",
   "source": [
    "## Remove Outliers: > 14 days"
   ],
   "metadata": {
    "collapsed": false
   },
   "id": "f7d36c5289926866"
  },
  {
   "cell_type": "markdown",
   "source": [
    "Remove 1215 outliers with `los_icu` > 14 days."
   ],
   "metadata": {
    "collapsed": false
   },
   "id": "8bc1e5b053bc2d5"
  },
  {
   "cell_type": "code",
   "execution_count": 94,
   "outputs": [
    {
     "data": {
      "text/plain": "(20414, 72)"
     },
     "execution_count": 94,
     "metadata": {},
     "output_type": "execute_result"
    }
   ],
   "source": [
    "df2.shape"
   ],
   "metadata": {
    "collapsed": false,
    "ExecuteTime": {
     "end_time": "2024-04-12T09:36:05.296121Z",
     "start_time": "2024-04-12T09:36:05.287536Z"
    }
   },
   "id": "d3eb7a93fc12ede8"
  },
  {
   "cell_type": "code",
   "execution_count": 95,
   "outputs": [],
   "source": [
    "df2 = df2[df2['los_icu'] <= 14]"
   ],
   "metadata": {
    "collapsed": false,
    "ExecuteTime": {
     "end_time": "2024-04-12T09:36:05.306635Z",
     "start_time": "2024-04-12T09:36:05.289825Z"
    }
   },
   "id": "d2547caf3e2cf623"
  },
  {
   "cell_type": "code",
   "execution_count": 96,
   "outputs": [
    {
     "data": {
      "text/plain": "(19199, 72)"
     },
     "execution_count": 96,
     "metadata": {},
     "output_type": "execute_result"
    }
   ],
   "source": [
    "df2.shape"
   ],
   "metadata": {
    "collapsed": false,
    "ExecuteTime": {
     "end_time": "2024-04-12T09:36:05.306898Z",
     "start_time": "2024-04-12T09:36:05.297959Z"
    }
   },
   "id": "a8ecd534311fa55d"
  },
  {
   "cell_type": "code",
   "execution_count": 97,
   "outputs": [],
   "source": [
    "df2.to_csv('/Users/von/PycharmProjects/SPH6004_A2/data/clean_regres.csv', index=False)"
   ],
   "metadata": {
    "collapsed": false,
    "ExecuteTime": {
     "end_time": "2024-04-12T09:36:06.035219Z",
     "start_time": "2024-04-12T09:36:05.304245Z"
    }
   },
   "id": "8454fd1e58c7a9b5"
  },
  {
   "cell_type": "markdown",
   "source": [
    "## Outcome Distribution: Oversampling"
   ],
   "metadata": {
    "collapsed": false
   },
   "id": "7c436a43347a6c73"
  },
  {
   "cell_type": "code",
   "execution_count": 98,
   "outputs": [
    {
     "data": {
      "text/plain": "0    17266\n1     1933\nName: icu_death, dtype: int64"
     },
     "execution_count": 98,
     "metadata": {},
     "output_type": "execute_result"
    }
   ],
   "source": [
    "df2['icu_death'].value_counts()"
   ],
   "metadata": {
    "collapsed": false,
    "ExecuteTime": {
     "end_time": "2024-04-12T09:36:06.042296Z",
     "start_time": "2024-04-12T09:36:06.037845Z"
    }
   },
   "id": "ee97d2864f95f142"
  },
  {
   "cell_type": "code",
   "execution_count": 99,
   "outputs": [],
   "source": [
    "X_df = df2.iloc[:, 7:]\n",
    "y_df = df2.loc[:, 'icu_death']"
   ],
   "metadata": {
    "collapsed": false,
    "ExecuteTime": {
     "end_time": "2024-04-12T09:36:06.045685Z",
     "start_time": "2024-04-12T09:36:06.041989Z"
    }
   },
   "id": "f201d663b24d92db"
  },
  {
   "cell_type": "code",
   "execution_count": 100,
   "outputs": [],
   "source": [
    "# Oversampling\n",
    "smote_sampler = SMOTE(random_state=12, sampling_strategy='minority')\n",
    "X_df_SMOTE, y_df_SMOTE = smote_sampler.fit_resample(X_df, y_df)"
   ],
   "metadata": {
    "collapsed": false,
    "ExecuteTime": {
     "end_time": "2024-04-12T09:36:06.117338Z",
     "start_time": "2024-04-12T09:36:06.044806Z"
    }
   },
   "id": "9611aebdd33f9470"
  },
  {
   "cell_type": "code",
   "execution_count": 101,
   "outputs": [],
   "source": [
    "X_df = pd.DataFrame(X_df_SMOTE)\n",
    "y_df = pd.DataFrame(y_df_SMOTE)"
   ],
   "metadata": {
    "collapsed": false,
    "ExecuteTime": {
     "end_time": "2024-04-12T09:36:06.124268Z",
     "start_time": "2024-04-12T09:36:06.118193Z"
    }
   },
   "id": "6b2db11d239b176f"
  },
  {
   "cell_type": "code",
   "execution_count": 102,
   "outputs": [
    {
     "data": {
      "text/plain": "(34532, 65)"
     },
     "execution_count": 102,
     "metadata": {},
     "output_type": "execute_result"
    }
   ],
   "source": [
    "X_df.shape"
   ],
   "metadata": {
    "collapsed": false,
    "ExecuteTime": {
     "end_time": "2024-04-12T09:36:06.124587Z",
     "start_time": "2024-04-12T09:36:06.121545Z"
    }
   },
   "id": "899890b95dd81b77"
  },
  {
   "cell_type": "code",
   "execution_count": 103,
   "outputs": [
    {
     "data": {
      "text/plain": "(34532, 1)"
     },
     "execution_count": 103,
     "metadata": {},
     "output_type": "execute_result"
    }
   ],
   "source": [
    "y_df.shape"
   ],
   "metadata": {
    "collapsed": false,
    "ExecuteTime": {
     "end_time": "2024-04-12T09:36:06.129601Z",
     "start_time": "2024-04-12T09:36:06.125054Z"
    }
   },
   "id": "8fe10c013765bc12"
  },
  {
   "cell_type": "code",
   "execution_count": 104,
   "outputs": [],
   "source": [
    "df3 = df2"
   ],
   "metadata": {
    "collapsed": false,
    "ExecuteTime": {
     "end_time": "2024-04-12T09:36:06.129680Z",
     "start_time": "2024-04-12T09:36:06.128197Z"
    }
   },
   "id": "495af3fc6874d07c"
  },
  {
   "cell_type": "code",
   "execution_count": 105,
   "outputs": [],
   "source": [
    "df3 = pd.concat((y_df, X_df), axis=1)"
   ],
   "metadata": {
    "collapsed": false,
    "ExecuteTime": {
     "end_time": "2024-04-12T09:36:06.138520Z",
     "start_time": "2024-04-12T09:36:06.130718Z"
    }
   },
   "id": "b0777bfb00eeec54"
  },
  {
   "cell_type": "code",
   "execution_count": 106,
   "outputs": [
    {
     "data": {
      "text/plain": "(34532, 66)"
     },
     "execution_count": 106,
     "metadata": {},
     "output_type": "execute_result"
    }
   ],
   "source": [
    "df3.shape"
   ],
   "metadata": {
    "collapsed": false,
    "ExecuteTime": {
     "end_time": "2024-04-12T09:36:06.142057Z",
     "start_time": "2024-04-12T09:36:06.136891Z"
    }
   },
   "id": "9cc04a5c4b56de96"
  },
  {
   "cell_type": "code",
   "execution_count": 107,
   "outputs": [],
   "source": [
    "df3.to_csv('/Users/von/PycharmProjects/SPH6004_A2/data/clean_class.csv', index=False)"
   ],
   "metadata": {
    "collapsed": false,
    "ExecuteTime": {
     "end_time": "2024-04-12T09:36:07.220272Z",
     "start_time": "2024-04-12T09:36:06.141151Z"
    }
   },
   "id": "2fca7d12d50ca2d5"
  },
  {
   "cell_type": "code",
   "execution_count": 108,
   "outputs": [
    {
     "data": {
      "text/plain": "       icu_death  admission_age  weight_admit    height  charlson_score  \\\n0              0      -0.560507      0.230368  0.051240        1.787189   \n1              0       0.806297     -1.076268 -0.842718       -0.271399   \n2              0       0.932592     -0.935010 -0.472804        0.757895   \n3              0      -0.218748     -0.419419 -0.873545        0.757895   \n4              0       1.091332     -0.225189 -0.873545        0.071699   \n...          ...            ...           ...       ...             ...   \n34527          1       1.445904      0.140109  0.078773        0.940948   \n34528          1       0.649510      0.884711 -1.217243        0.924849   \n34529          1       0.281820      0.460417  0.232268       -0.666635   \n34530          1      -0.379120      0.271563  0.972145        0.028505   \n34531          1       1.392874      0.004675 -1.548811        0.414797   \n\n       atrial_fibrillation  malignant_cancer       chf  ckd  cld  ...  \\\n0                  0.00000               0.0  0.000000  0.0  0.0  ...   \n1                  0.00000               0.0  0.000000  0.0  0.0  ...   \n2                  0.00000               0.0  1.000000  1.0  0.0  ...   \n3                  0.00000               0.0  1.000000  1.0  0.0  ...   \n4                  1.00000               0.0  1.000000  1.0  0.0  ...   \n...                    ...               ...       ...  ...  ...  ...   \n34527              0.84451               0.0  1.000000  1.0  0.0  ...   \n34528              0.00000               0.0  1.000000  1.0  0.0  ...   \n34529              0.00000               0.0  0.848037  1.0  0.0  ...   \n34530              0.00000               0.0  0.000000  0.0  1.0  ...   \n34531              0.00000               0.0  1.000000  0.0  0.0  ...   \n\n       race_OTHER  race_WHITE  admtyp_ELECTIVE  admtyp_EMERGENCY  \\\n0             1.0         0.0              1.0          0.000000   \n1             0.0         1.0              0.0          1.000000   \n2             0.0         1.0              0.0          1.000000   \n3             0.0         0.0              0.0          1.000000   \n4             0.0         1.0              1.0          0.000000   \n...           ...         ...              ...               ...   \n34527         0.0         1.0              0.0          0.155490   \n34528         0.0         1.0              0.0          1.000000   \n34529         0.0         1.0              0.0          1.000000   \n34530         0.0         1.0              0.0          0.125894   \n34531         0.0         1.0              0.0          1.000000   \n\n       admtyp_URGENT  firstcare_CARDIAC  firstcare_CORONARY  \\\n0           0.000000                0.0            0.000000   \n1           0.000000                0.0            0.000000   \n2           0.000000                0.0            0.000000   \n3           0.000000                0.0            0.000000   \n4           0.000000                0.0            0.000000   \n...              ...                ...                 ...   \n34527       0.844510                0.0            0.844510   \n34528       0.000000                0.0            0.256696   \n34529       0.000000                0.0            0.000000   \n34530       0.874106                0.0            0.000000   \n34531       0.000000                0.0            0.860374   \n\n       firstcare_MEDICAL/SURGICAL  firstcare_NEURO  firstcare_TRAUMA  \n0                        0.000000              0.0          1.000000  \n1                        0.000000              0.0          1.000000  \n2                        1.000000              0.0          0.000000  \n3                        1.000000              0.0          0.000000  \n4                        1.000000              0.0          0.000000  \n...                           ...              ...               ...  \n34527                    0.155490              0.0          0.000000  \n34528                    0.743304              0.0          0.000000  \n34529                    1.000000              0.0          0.000000  \n34530                    0.874106              0.0          0.125894  \n34531                    0.139626              0.0          0.000000  \n\n[34532 rows x 66 columns]",
      "text/html": "<div>\n<style scoped>\n    .dataframe tbody tr th:only-of-type {\n        vertical-align: middle;\n    }\n\n    .dataframe tbody tr th {\n        vertical-align: top;\n    }\n\n    .dataframe thead th {\n        text-align: right;\n    }\n</style>\n<table border=\"1\" class=\"dataframe\">\n  <thead>\n    <tr style=\"text-align: right;\">\n      <th></th>\n      <th>icu_death</th>\n      <th>admission_age</th>\n      <th>weight_admit</th>\n      <th>height</th>\n      <th>charlson_score</th>\n      <th>atrial_fibrillation</th>\n      <th>malignant_cancer</th>\n      <th>chf</th>\n      <th>ckd</th>\n      <th>cld</th>\n      <th>...</th>\n      <th>race_OTHER</th>\n      <th>race_WHITE</th>\n      <th>admtyp_ELECTIVE</th>\n      <th>admtyp_EMERGENCY</th>\n      <th>admtyp_URGENT</th>\n      <th>firstcare_CARDIAC</th>\n      <th>firstcare_CORONARY</th>\n      <th>firstcare_MEDICAL/SURGICAL</th>\n      <th>firstcare_NEURO</th>\n      <th>firstcare_TRAUMA</th>\n    </tr>\n  </thead>\n  <tbody>\n    <tr>\n      <th>0</th>\n      <td>0</td>\n      <td>-0.560507</td>\n      <td>0.230368</td>\n      <td>0.051240</td>\n      <td>1.787189</td>\n      <td>0.00000</td>\n      <td>0.0</td>\n      <td>0.000000</td>\n      <td>0.0</td>\n      <td>0.0</td>\n      <td>...</td>\n      <td>1.0</td>\n      <td>0.0</td>\n      <td>1.0</td>\n      <td>0.000000</td>\n      <td>0.000000</td>\n      <td>0.0</td>\n      <td>0.000000</td>\n      <td>0.000000</td>\n      <td>0.0</td>\n      <td>1.000000</td>\n    </tr>\n    <tr>\n      <th>1</th>\n      <td>0</td>\n      <td>0.806297</td>\n      <td>-1.076268</td>\n      <td>-0.842718</td>\n      <td>-0.271399</td>\n      <td>0.00000</td>\n      <td>0.0</td>\n      <td>0.000000</td>\n      <td>0.0</td>\n      <td>0.0</td>\n      <td>...</td>\n      <td>0.0</td>\n      <td>1.0</td>\n      <td>0.0</td>\n      <td>1.000000</td>\n      <td>0.000000</td>\n      <td>0.0</td>\n      <td>0.000000</td>\n      <td>0.000000</td>\n      <td>0.0</td>\n      <td>1.000000</td>\n    </tr>\n    <tr>\n      <th>2</th>\n      <td>0</td>\n      <td>0.932592</td>\n      <td>-0.935010</td>\n      <td>-0.472804</td>\n      <td>0.757895</td>\n      <td>0.00000</td>\n      <td>0.0</td>\n      <td>1.000000</td>\n      <td>1.0</td>\n      <td>0.0</td>\n      <td>...</td>\n      <td>0.0</td>\n      <td>1.0</td>\n      <td>0.0</td>\n      <td>1.000000</td>\n      <td>0.000000</td>\n      <td>0.0</td>\n      <td>0.000000</td>\n      <td>1.000000</td>\n      <td>0.0</td>\n      <td>0.000000</td>\n    </tr>\n    <tr>\n      <th>3</th>\n      <td>0</td>\n      <td>-0.218748</td>\n      <td>-0.419419</td>\n      <td>-0.873545</td>\n      <td>0.757895</td>\n      <td>0.00000</td>\n      <td>0.0</td>\n      <td>1.000000</td>\n      <td>1.0</td>\n      <td>0.0</td>\n      <td>...</td>\n      <td>0.0</td>\n      <td>0.0</td>\n      <td>0.0</td>\n      <td>1.000000</td>\n      <td>0.000000</td>\n      <td>0.0</td>\n      <td>0.000000</td>\n      <td>1.000000</td>\n      <td>0.0</td>\n      <td>0.000000</td>\n    </tr>\n    <tr>\n      <th>4</th>\n      <td>0</td>\n      <td>1.091332</td>\n      <td>-0.225189</td>\n      <td>-0.873545</td>\n      <td>0.071699</td>\n      <td>1.00000</td>\n      <td>0.0</td>\n      <td>1.000000</td>\n      <td>1.0</td>\n      <td>0.0</td>\n      <td>...</td>\n      <td>0.0</td>\n      <td>1.0</td>\n      <td>1.0</td>\n      <td>0.000000</td>\n      <td>0.000000</td>\n      <td>0.0</td>\n      <td>0.000000</td>\n      <td>1.000000</td>\n      <td>0.0</td>\n      <td>0.000000</td>\n    </tr>\n    <tr>\n      <th>...</th>\n      <td>...</td>\n      <td>...</td>\n      <td>...</td>\n      <td>...</td>\n      <td>...</td>\n      <td>...</td>\n      <td>...</td>\n      <td>...</td>\n      <td>...</td>\n      <td>...</td>\n      <td>...</td>\n      <td>...</td>\n      <td>...</td>\n      <td>...</td>\n      <td>...</td>\n      <td>...</td>\n      <td>...</td>\n      <td>...</td>\n      <td>...</td>\n      <td>...</td>\n      <td>...</td>\n    </tr>\n    <tr>\n      <th>34527</th>\n      <td>1</td>\n      <td>1.445904</td>\n      <td>0.140109</td>\n      <td>0.078773</td>\n      <td>0.940948</td>\n      <td>0.84451</td>\n      <td>0.0</td>\n      <td>1.000000</td>\n      <td>1.0</td>\n      <td>0.0</td>\n      <td>...</td>\n      <td>0.0</td>\n      <td>1.0</td>\n      <td>0.0</td>\n      <td>0.155490</td>\n      <td>0.844510</td>\n      <td>0.0</td>\n      <td>0.844510</td>\n      <td>0.155490</td>\n      <td>0.0</td>\n      <td>0.000000</td>\n    </tr>\n    <tr>\n      <th>34528</th>\n      <td>1</td>\n      <td>0.649510</td>\n      <td>0.884711</td>\n      <td>-1.217243</td>\n      <td>0.924849</td>\n      <td>0.00000</td>\n      <td>0.0</td>\n      <td>1.000000</td>\n      <td>1.0</td>\n      <td>0.0</td>\n      <td>...</td>\n      <td>0.0</td>\n      <td>1.0</td>\n      <td>0.0</td>\n      <td>1.000000</td>\n      <td>0.000000</td>\n      <td>0.0</td>\n      <td>0.256696</td>\n      <td>0.743304</td>\n      <td>0.0</td>\n      <td>0.000000</td>\n    </tr>\n    <tr>\n      <th>34529</th>\n      <td>1</td>\n      <td>0.281820</td>\n      <td>0.460417</td>\n      <td>0.232268</td>\n      <td>-0.666635</td>\n      <td>0.00000</td>\n      <td>0.0</td>\n      <td>0.848037</td>\n      <td>1.0</td>\n      <td>0.0</td>\n      <td>...</td>\n      <td>0.0</td>\n      <td>1.0</td>\n      <td>0.0</td>\n      <td>1.000000</td>\n      <td>0.000000</td>\n      <td>0.0</td>\n      <td>0.000000</td>\n      <td>1.000000</td>\n      <td>0.0</td>\n      <td>0.000000</td>\n    </tr>\n    <tr>\n      <th>34530</th>\n      <td>1</td>\n      <td>-0.379120</td>\n      <td>0.271563</td>\n      <td>0.972145</td>\n      <td>0.028505</td>\n      <td>0.00000</td>\n      <td>0.0</td>\n      <td>0.000000</td>\n      <td>0.0</td>\n      <td>1.0</td>\n      <td>...</td>\n      <td>0.0</td>\n      <td>1.0</td>\n      <td>0.0</td>\n      <td>0.125894</td>\n      <td>0.874106</td>\n      <td>0.0</td>\n      <td>0.000000</td>\n      <td>0.874106</td>\n      <td>0.0</td>\n      <td>0.125894</td>\n    </tr>\n    <tr>\n      <th>34531</th>\n      <td>1</td>\n      <td>1.392874</td>\n      <td>0.004675</td>\n      <td>-1.548811</td>\n      <td>0.414797</td>\n      <td>0.00000</td>\n      <td>0.0</td>\n      <td>1.000000</td>\n      <td>0.0</td>\n      <td>0.0</td>\n      <td>...</td>\n      <td>0.0</td>\n      <td>1.0</td>\n      <td>0.0</td>\n      <td>1.000000</td>\n      <td>0.000000</td>\n      <td>0.0</td>\n      <td>0.860374</td>\n      <td>0.139626</td>\n      <td>0.0</td>\n      <td>0.000000</td>\n    </tr>\n  </tbody>\n</table>\n<p>34532 rows × 66 columns</p>\n</div>"
     },
     "execution_count": 108,
     "metadata": {},
     "output_type": "execute_result"
    }
   ],
   "source": [
    "df3"
   ],
   "metadata": {
    "collapsed": false,
    "ExecuteTime": {
     "end_time": "2024-04-12T09:36:07.238643Z",
     "start_time": "2024-04-12T09:36:07.222527Z"
    }
   },
   "id": "8c35b6892373680b"
  },
  {
   "cell_type": "code",
   "execution_count": 108,
   "outputs": [],
   "source": [],
   "metadata": {
    "collapsed": false,
    "ExecuteTime": {
     "end_time": "2024-04-12T09:36:07.240178Z",
     "start_time": "2024-04-12T09:36:07.237480Z"
    }
   },
   "id": "49af8fe0a7e4dd78"
  }
 ],
 "metadata": {
  "kernelspec": {
   "display_name": "Python 3",
   "language": "python",
   "name": "python3"
  },
  "language_info": {
   "codemirror_mode": {
    "name": "ipython",
    "version": 2
   },
   "file_extension": ".py",
   "mimetype": "text/x-python",
   "name": "python",
   "nbconvert_exporter": "python",
   "pygments_lexer": "ipython2",
   "version": "2.7.6"
  }
 },
 "nbformat": 4,
 "nbformat_minor": 5
}
