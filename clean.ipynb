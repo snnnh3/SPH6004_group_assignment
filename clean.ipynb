{
 "cells": [
  {
   "cell_type": "code",
   "execution_count": 60,
   "id": "initial_id",
   "metadata": {
    "ExecuteTime": {
     "end_time": "2024-04-01T09:56:22.499944Z",
     "start_time": "2024-04-01T09:56:21.960401Z"
    },
    "collapsed": true
   },
   "outputs": [],
   "source": [
    "import pandas as pd\n",
    "import numpy as np\n",
    "import os\n",
    "\n",
    "from sklearn.impute import KNNImputer\n",
    "\n",
    "from imblearn.over_sampling import SMOTE"
   ]
  },
  {
   "cell_type": "code",
   "execution_count": 3,
   "id": "f1b4a7f5005700b4",
   "metadata": {
    "ExecuteTime": {
     "end_time": "2024-04-01T08:33:46.966580Z",
     "start_time": "2024-04-01T08:33:46.691254Z"
    },
    "collapsed": false
   },
   "outputs": [],
   "source": [
    "static = pd.read_csv('/Users/von/PycharmProjects/SPH6004_A2/data/static.csv')\n",
    "dynamic = pd.read_csv('/Users/von/PycharmProjects/SPH6004_A2/data/dynamic.csv')"
   ]
  },
  {
   "cell_type": "markdown",
   "id": "11ee2ab8b445fae5",
   "metadata": {
    "collapsed": false
   },
   "source": [
    "## Data Description"
   ]
  },
  {
   "cell_type": "markdown",
   "id": "f7e49d5cb7272643",
   "metadata": {
    "collapsed": false
   },
   "source": [
    "The static file is on subject level, while the dynamic file is not (in other words, in static, one person per row; in dynamic, several rows per person). \n",
    "Then two ideas to deal with the dynamic file:\n",
    "1) group by id, and take the mean of each lab test;\n",
    "2) pivot long to wide."
   ]
  },
  {
   "cell_type": "code",
   "execution_count": 8,
   "id": "7c0f9b440eaf3f0a",
   "metadata": {
    "ExecuteTime": {
     "end_time": "2024-04-01T08:35:45.559812Z",
     "start_time": "2024-04-01T08:35:45.554894Z"
    },
    "collapsed": false
   },
   "outputs": [
    {
     "data": {
      "text/plain": [
       "(20414, 25)"
      ]
     },
     "execution_count": 8,
     "metadata": {},
     "output_type": "execute_result"
    }
   ],
   "source": [
    "static.shape"
   ]
  },
  {
   "cell_type": "code",
   "execution_count": 9,
   "id": "cb080df648c1e8cc",
   "metadata": {
    "ExecuteTime": {
     "end_time": "2024-04-01T08:35:58.094677Z",
     "start_time": "2024-04-01T08:35:58.091931Z"
    },
    "collapsed": false
   },
   "outputs": [
    {
     "data": {
      "text/plain": [
       "(93604, 70)"
      ]
     },
     "execution_count": 9,
     "metadata": {},
     "output_type": "execute_result"
    }
   ],
   "source": [
    "dynamic.shape"
   ]
  },
  {
   "cell_type": "code",
   "execution_count": 11,
   "id": "ed3fb72de58c7d3",
   "metadata": {
    "ExecuteTime": {
     "end_time": "2024-04-01T08:43:44.757299Z",
     "start_time": "2024-04-01T08:43:44.693864Z"
    },
    "collapsed": false
   },
   "outputs": [],
   "source": [
    "## take mean of each lab test\n",
    "dynamic1 = dynamic.groupby('id').mean(numeric_only=True).reset_index()"
   ]
  },
  {
   "cell_type": "code",
   "execution_count": 13,
   "id": "40a656e75ebb65f2",
   "metadata": {
    "ExecuteTime": {
     "end_time": "2024-04-01T08:44:23.205527Z",
     "start_time": "2024-04-01T08:44:23.163455Z"
    },
    "collapsed": false
   },
   "outputs": [],
   "source": [
    "df = pd.merge(static, dynamic1, on='id', how='left')"
   ]
  },
  {
   "cell_type": "code",
   "execution_count": 14,
   "id": "46cef52489e3e01e",
   "metadata": {
    "ExecuteTime": {
     "end_time": "2024-04-01T08:44:25.281216Z",
     "start_time": "2024-04-01T08:44:25.272836Z"
    },
    "collapsed": false
   },
   "outputs": [
    {
     "data": {
      "text/plain": [
       "(20414, 93)"
      ]
     },
     "execution_count": 14,
     "metadata": {},
     "output_type": "execute_result"
    }
   ],
   "source": [
    "df.shape"
   ]
  },
  {
   "cell_type": "code",
   "execution_count": 15,
   "id": "99469a87cc5b3d5",
   "metadata": {
    "ExecuteTime": {
     "end_time": "2024-04-01T08:44:29.590744Z",
     "start_time": "2024-04-01T08:44:29.581613Z"
    },
    "collapsed": false
   },
   "outputs": [
    {
     "data": {
      "text/plain": [
       "Index(['id', 'hosp_admittime', 'hosp_dischtime', 'icu_intime', 'icu_outtime',\n",
       "       'los_icu', 'icu_death', 'gender', 'race', 'admission_age',\n",
       "       'weight_admit', 'height', 'admission_type', 'first_careunit',\n",
       "       'charlson_score', 'atrial_fibrillation', 'malignant_cancer', 'chf',\n",
       "       'ckd', 'cld', 'copd', 'diabetes', 'hypertension', 'ihd', 'stroke',\n",
       "       'albumin', 'globulin', 'total_protein', 'aniongap', 'bicarbonate',\n",
       "       'bun', 'calcium', 'chloride', 'creatinine', 'glucose', 'sodium',\n",
       "       'potassium', 'heart_rate', 'sbp', 'dbp', 'mbp', 'resp_rate',\n",
       "       'temperature', 'spo2', 'hematocrit', 'hemoglobin', 'mch', 'mchc', 'mcv',\n",
       "       'platelet', 'rbc', 'rdw', 'wbc', 'alt', 'ast', 'alp', 'amylase',\n",
       "       'bilirubin_total', 'bilirubin_direct', 'bilirubin_indirect', 'ck_cpk',\n",
       "       'ck_mb', 'ggt', 'ld_ldh', 'so2', 'po2', 'pco2', 'fio2_chartevents',\n",
       "       'aado2', 'aado2_calc', 'pao2fio2ratio', 'ph', 'baseexcess',\n",
       "       'bicarbonate_bg', 'totalco2', 'hematocrit_bg', 'hemoglobin_bg',\n",
       "       'carboxyhemoglobin', 'methemoglobin', 'chloride_bg', 'calcium_bg',\n",
       "       'temperature_bg', 'potassium_bg', 'sodium_bg', 'lactate_bg',\n",
       "       'glucose_bg', 'd_dimer', 'fibrinogen', 'thrombin', 'inr', 'pt', 'ptt',\n",
       "       'urineoutput'],\n",
       "      dtype='object')"
      ]
     },
     "execution_count": 15,
     "metadata": {},
     "output_type": "execute_result"
    }
   ],
   "source": [
    "df.columns"
   ]
  },
  {
   "cell_type": "code",
   "execution_count": 17,
   "id": "47eb3573f0c13c38",
   "metadata": {
    "ExecuteTime": {
     "end_time": "2024-04-01T08:56:10.703570Z",
     "start_time": "2024-04-01T08:56:10.703184Z"
    },
    "collapsed": false
   },
   "outputs": [
    {
     "data": {
      "text/plain": [
       "id                  int64\n",
       "hosp_admittime     object\n",
       "hosp_dischtime     object\n",
       "icu_intime         object\n",
       "icu_outtime        object\n",
       "                   ...   \n",
       "thrombin          float64\n",
       "inr               float64\n",
       "pt                float64\n",
       "ptt               float64\n",
       "urineoutput       float64\n",
       "Length: 93, dtype: object"
      ]
     },
     "execution_count": 17,
     "metadata": {},
     "output_type": "execute_result"
    }
   ],
   "source": [
    "df.dtypes"
   ]
  },
  {
   "cell_type": "markdown",
   "id": "3f6c3fb9c006544d",
   "metadata": {
    "collapsed": false
   },
   "source": [
    "## Check Missing"
   ]
  },
  {
   "cell_type": "markdown",
   "id": "f846b4fc5284e1ad",
   "metadata": {
    "collapsed": false
   },
   "source": [
    "Some of the variables have large percentage of missing. Here remove columns with > 90% missing. Set this bar because the dbp, sbp and mbp have 85% missing, and those may have important clinical meaning and prefer to remain them."
   ]
  },
  {
   "cell_type": "code",
   "execution_count": 16,
   "id": "b042196e57bf7a61",
   "metadata": {
    "ExecuteTime": {
     "end_time": "2024-04-01T08:45:55.669582Z",
     "start_time": "2024-04-01T08:45:55.626704Z"
    },
    "collapsed": false
   },
   "outputs": [
    {
     "data": {
      "text/html": [
       "<div>\n",
       "<style scoped>\n",
       "    .dataframe tbody tr th:only-of-type {\n",
       "        vertical-align: middle;\n",
       "    }\n",
       "\n",
       "    .dataframe tbody tr th {\n",
       "        vertical-align: top;\n",
       "    }\n",
       "\n",
       "    .dataframe thead th {\n",
       "        text-align: right;\n",
       "    }\n",
       "</style>\n",
       "<table border=\"1\" class=\"dataframe\">\n",
       "  <thead>\n",
       "    <tr style=\"text-align: right;\">\n",
       "      <th></th>\n",
       "      <th>Row Name</th>\n",
       "      <th>Missing Percentage</th>\n",
       "    </tr>\n",
       "  </thead>\n",
       "  <tbody>\n",
       "    <tr>\n",
       "      <th>0</th>\n",
       "      <td>id</td>\n",
       "      <td>0.000000</td>\n",
       "    </tr>\n",
       "    <tr>\n",
       "      <th>1</th>\n",
       "      <td>hosp_admittime</td>\n",
       "      <td>0.000000</td>\n",
       "    </tr>\n",
       "    <tr>\n",
       "      <th>2</th>\n",
       "      <td>hosp_dischtime</td>\n",
       "      <td>0.000000</td>\n",
       "    </tr>\n",
       "    <tr>\n",
       "      <th>3</th>\n",
       "      <td>icu_intime</td>\n",
       "      <td>0.000000</td>\n",
       "    </tr>\n",
       "    <tr>\n",
       "      <th>4</th>\n",
       "      <td>icu_outtime</td>\n",
       "      <td>0.000000</td>\n",
       "    </tr>\n",
       "    <tr>\n",
       "      <th>...</th>\n",
       "      <td>...</td>\n",
       "      <td>...</td>\n",
       "    </tr>\n",
       "    <tr>\n",
       "      <th>88</th>\n",
       "      <td>thrombin</td>\n",
       "      <td>99.823650</td>\n",
       "    </tr>\n",
       "    <tr>\n",
       "      <th>89</th>\n",
       "      <td>inr</td>\n",
       "      <td>12.511022</td>\n",
       "    </tr>\n",
       "    <tr>\n",
       "      <th>90</th>\n",
       "      <td>pt</td>\n",
       "      <td>12.511022</td>\n",
       "    </tr>\n",
       "    <tr>\n",
       "      <th>91</th>\n",
       "      <td>ptt</td>\n",
       "      <td>13.319291</td>\n",
       "    </tr>\n",
       "    <tr>\n",
       "      <th>92</th>\n",
       "      <td>urineoutput</td>\n",
       "      <td>90.531008</td>\n",
       "    </tr>\n",
       "  </tbody>\n",
       "</table>\n",
       "<p>93 rows × 2 columns</p>\n",
       "</div>"
      ],
      "text/plain": [
       "          Row Name  Missing Percentage\n",
       "0               id            0.000000\n",
       "1   hosp_admittime            0.000000\n",
       "2   hosp_dischtime            0.000000\n",
       "3       icu_intime            0.000000\n",
       "4      icu_outtime            0.000000\n",
       "..             ...                 ...\n",
       "88        thrombin           99.823650\n",
       "89             inr           12.511022\n",
       "90              pt           12.511022\n",
       "91             ptt           13.319291\n",
       "92     urineoutput           90.531008\n",
       "\n",
       "[93 rows x 2 columns]"
      ]
     },
     "execution_count": 16,
     "metadata": {},
     "output_type": "execute_result"
    }
   ],
   "source": [
    "na_df = df.isnull().sum()*100/len(df)\n",
    "nadf_reset = na_df.reset_index()\n",
    "nadf_reset.columns = ['Row Name', 'Missing Percentage']\n",
    "nadf_reset"
   ]
  },
  {
   "cell_type": "code",
   "execution_count": 30,
   "id": "277da82a28c3f883",
   "metadata": {
    "ExecuteTime": {
     "end_time": "2024-04-01T09:21:44.541562Z",
     "start_time": "2024-04-01T09:21:44.505296Z"
    },
    "collapsed": false
   },
   "outputs": [],
   "source": [
    "# remove cols that have more than 90% missing\n",
    "df1 = df.loc[:, df.columns[nadf_reset['Missing Percentage'] < 90]]"
   ]
  },
  {
   "cell_type": "markdown",
   "id": "dee5374f4cc9364c",
   "metadata": {
    "collapsed": false
   },
   "source": [
    "## Dummy Variable"
   ]
  },
  {
   "cell_type": "markdown",
   "id": "a20f6b34a9037432",
   "metadata": {
    "collapsed": false
   },
   "source": [
    "`gender`, `race`, `admission_type`, and `first_careunit` are changed to dummy.\n",
    "The `race` includes many categories. Now recategorized into 4 major ethnic groups. For UNKNOWN or UNABLE TO OBTAIN or PATIENT DECLINED TO ANSWER, they are defined as the largest ethnic group WHITE.\n",
    "The `admission_type` is recategorized into 3 major admission types.\n"
   ]
  },
  {
   "cell_type": "code",
   "execution_count": 31,
   "id": "adab3c048d64a8c7",
   "metadata": {
    "ExecuteTime": {
     "end_time": "2024-04-01T09:21:48.361645Z",
     "start_time": "2024-04-01T09:21:48.346221Z"
    },
    "collapsed": false
   },
   "outputs": [],
   "source": [
    "## gender\n",
    "gender_df_wide = pd.get_dummies(df1['gender'], prefix = 'gender', dtype = int)\n",
    "df1 = df1.drop('gender', axis=1)\n",
    "df1 = pd.concat((df1, gender_df_wide), axis = 1)"
   ]
  },
  {
   "cell_type": "code",
   "execution_count": 23,
   "id": "d442092290bc5c81",
   "metadata": {
    "ExecuteTime": {
     "end_time": "2024-04-01T09:02:09.240142Z",
     "start_time": "2024-04-01T09:02:09.225194Z"
    },
    "collapsed": false
   },
   "outputs": [
    {
     "data": {
      "text/plain": [
       "WHITE                                        13133\n",
       "BLACK/AFRICAN AMERICAN                        2332\n",
       "UNKNOWN                                       1605\n",
       "OTHER                                          606\n",
       "WHITE - OTHER EUROPEAN                         350\n",
       "HISPANIC/LATINO - PUERTO RICAN                 274\n",
       "WHITE - RUSSIAN                                247\n",
       "ASIAN                                          197\n",
       "UNABLE TO OBTAIN                               180\n",
       "ASIAN - CHINESE                                167\n",
       "HISPANIC OR LATINO                             164\n",
       "HISPANIC/LATINO - DOMINICAN                    142\n",
       "BLACK/CAPE VERDEAN                             139\n",
       "BLACK/CARIBBEAN ISLAND                         110\n",
       "ASIAN - SOUTH EAST ASIAN                        93\n",
       "PATIENT DECLINED TO ANSWER                      91\n",
       "BLACK/AFRICAN                                   89\n",
       "PORTUGUESE                                      86\n",
       "HISPANIC/LATINO - GUATEMALAN                    50\n",
       "AMERICAN INDIAN/ALASKA NATIVE                   50\n",
       "ASIAN - ASIAN INDIAN                            47\n",
       "WHITE - EASTERN EUROPEAN                        37\n",
       "NATIVE HAWAIIAN OR OTHER PACIFIC ISLANDER       34\n",
       "HISPANIC/LATINO - SALVADORAN                    29\n",
       "WHITE - BRAZILIAN                               27\n",
       "HISPANIC/LATINO - CUBAN                         24\n",
       "MULTIPLE RACE/ETHNICITY                         23\n",
       "HISPANIC/LATINO - HONDURAN                      21\n",
       "HISPANIC/LATINO - COLUMBIAN                     16\n",
       "HISPANIC/LATINO - CENTRAL AMERICAN              14\n",
       "SOUTH AMERICAN                                  14\n",
       "HISPANIC/LATINO - MEXICAN                       13\n",
       "ASIAN - KOREAN                                  10\n",
       "Name: race, dtype: int64"
      ]
     },
     "execution_count": 23,
     "metadata": {},
     "output_type": "execute_result"
    }
   ],
   "source": [
    "## race\n",
    "df1['race'].value_counts()"
   ]
  },
  {
   "cell_type": "code",
   "execution_count": 32,
   "id": "80f50eef0162b106",
   "metadata": {
    "ExecuteTime": {
     "end_time": "2024-04-01T09:21:52.641140Z",
     "start_time": "2024-04-01T09:21:52.613599Z"
    },
    "collapsed": false
   },
   "outputs": [],
   "source": [
    "conditions = [\n",
    "    (df1['race'].str.contains('WHITE', case=False)),\n",
    "    (df1['race'].str.contains('BLACK', case=False)),\n",
    "    (df1['race'].str.contains('HISPANIC', case=False)),\n",
    "    (df1['race'].str.contains('ASIAN', case=False)),\n",
    "    (df1['race'].str.contains('UNKNOWN|UNABLE|DECLINED', case=False)),\n",
    "    (df1['race'].str.contains('OTHER|PORTUGUESE|ALASKA|HAWAIIAN|MULTIPLE|SOUTH AMERICAN', case=False))\n",
    "]\n",
    "values = ['WHITE', 'BLACK', 'HISPANIC/LATINO', 'ASIAN', 'WHITE', 'OTHER']\n",
    "\n",
    "df1['race'] = np.select(conditions, values)"
   ]
  },
  {
   "cell_type": "code",
   "execution_count": 33,
   "id": "3856a82316cd1c8d",
   "metadata": {
    "ExecuteTime": {
     "end_time": "2024-04-01T09:21:55.390301Z",
     "start_time": "2024-04-01T09:21:55.375347Z"
    },
    "collapsed": false
   },
   "outputs": [
    {
     "data": {
      "text/plain": [
       "WHITE              15670\n",
       "BLACK               2670\n",
       "OTHER                813\n",
       "HISPANIC/LATINO      747\n",
       "ASIAN                514\n",
       "Name: race, dtype: int64"
      ]
     },
     "execution_count": 33,
     "metadata": {},
     "output_type": "execute_result"
    }
   ],
   "source": [
    "df1['race'].value_counts()"
   ]
  },
  {
   "cell_type": "code",
   "execution_count": 34,
   "id": "f0698230080d8a78",
   "metadata": {
    "ExecuteTime": {
     "end_time": "2024-04-01T09:25:02.963495Z",
     "start_time": "2024-04-01T09:25:02.921384Z"
    },
    "collapsed": false
   },
   "outputs": [],
   "source": [
    "race_df_wide = pd.get_dummies(df1['race'], prefix = 'race', dtype = int)\n",
    "df1 = df1.drop('race', axis=1)\n",
    "df1 = pd.concat((df1, race_df_wide), axis = 1)"
   ]
  },
  {
   "cell_type": "code",
   "execution_count": 36,
   "id": "a3e0cf400dac8e3d",
   "metadata": {
    "ExecuteTime": {
     "end_time": "2024-04-01T09:25:48.159287Z",
     "start_time": "2024-04-01T09:25:48.145127Z"
    },
    "collapsed": false
   },
   "outputs": [
    {
     "data": {
      "text/plain": [
       "EW EMER.                       11400\n",
       "URGENT                          3630\n",
       "OBSERVATION ADMIT               2486\n",
       "SURGICAL SAME DAY ADMISSION     1411\n",
       "DIRECT EMER.                     878\n",
       "ELECTIVE                         592\n",
       "EU OBSERVATION                    13\n",
       "DIRECT OBSERVATION                 4\n",
       "Name: admission_type, dtype: int64"
      ]
     },
     "execution_count": 36,
     "metadata": {},
     "output_type": "execute_result"
    }
   ],
   "source": [
    "## admission type\n",
    "df['admission_type'].value_counts()"
   ]
  },
  {
   "cell_type": "code",
   "execution_count": 37,
   "id": "31ea03d9ad84085f",
   "metadata": {
    "ExecuteTime": {
     "end_time": "2024-04-01T09:31:57.146219Z",
     "start_time": "2024-04-01T09:31:57.121669Z"
    },
    "collapsed": false
   },
   "outputs": [],
   "source": [
    "conditions = [\n",
    "    (df1['admission_type'].str.contains('EMER', case=False)),\n",
    "    (df1['admission_type'].str.contains('URGENT|SURGICAL', case=False)),\n",
    "    (df1['admission_type'].str.contains('ELECTIVE|OBSERVATION', case=False))\n",
    "]\n",
    "values = ['EMERGENCY', 'URGENT', 'ELECTIVE']\n",
    "\n",
    "df1['admission_type'] = np.select(conditions, values)"
   ]
  },
  {
   "cell_type": "code",
   "execution_count": 39,
   "id": "9e6133f2c79e4a0f",
   "metadata": {
    "ExecuteTime": {
     "end_time": "2024-04-01T09:32:58.552033Z",
     "start_time": "2024-04-01T09:32:58.523052Z"
    },
    "collapsed": false
   },
   "outputs": [],
   "source": [
    "adm_df_wide = pd.get_dummies(df1['admission_type'], prefix = 'admtyp', dtype = int)\n",
    "df1 = df1.drop('admission_type', axis=1)\n",
    "df1 = pd.concat((df1, adm_df_wide), axis = 1)"
   ]
  },
  {
   "cell_type": "code",
   "execution_count": 40,
   "id": "32007765b42183ce",
   "metadata": {
    "ExecuteTime": {
     "end_time": "2024-04-01T09:33:58.949790Z",
     "start_time": "2024-04-01T09:33:58.925489Z"
    },
    "collapsed": false
   },
   "outputs": [
    {
     "data": {
      "text/plain": [
       "Medical Intensive Care Unit (MICU)                  5374\n",
       "Medical/Surgical Intensive Care Unit (MICU/SICU)    3952\n",
       "Surgical Intensive Care Unit (SICU)                 3100\n",
       "Coronary Care Unit (CCU)                            2475\n",
       "Trauma SICU (TSICU)                                 2452\n",
       "Cardiac Vascular Intensive Care Unit (CVICU)        2422\n",
       "Neuro Surgical Intensive Care Unit (Neuro SICU)      435\n",
       "Neuro Intermediate                                   145\n",
       "Neuro Stepdown                                        59\n",
       "Name: first_careunit, dtype: int64"
      ]
     },
     "execution_count": 40,
     "metadata": {},
     "output_type": "execute_result"
    }
   ],
   "source": [
    "## first care unit\n",
    "df1['first_careunit'].value_counts()"
   ]
  },
  {
   "cell_type": "code",
   "execution_count": 41,
   "id": "ead7beb3e4e584ab",
   "metadata": {
    "ExecuteTime": {
     "end_time": "2024-04-01T09:36:59.649370Z",
     "start_time": "2024-04-01T09:36:59.598985Z"
    },
    "collapsed": false
   },
   "outputs": [],
   "source": [
    "conditions = [\n",
    "    (df1['first_careunit'].str.contains('MEDICAL|SURGICAL', case=False)),\n",
    "    (df1['first_careunit'].str.contains('NEURO', case=False)),\n",
    "    (df1['first_careunit'].str.contains('CORONARY', case=False)),\n",
    "    (df1['first_careunit'].str.contains('TRAUMA', case=False)),\n",
    "    (df1['first_careunit'].str.contains('CARDIAC', case=False))\n",
    "]\n",
    "values = ['MEDICAL/SURGICAL', 'NEURO', 'CORONARY', 'TRAUMA', 'CARDIAC']\n",
    "\n",
    "df1['first_careunit'] = np.select(conditions, values)"
   ]
  },
  {
   "cell_type": "code",
   "execution_count": 42,
   "id": "671b11533a5ae096",
   "metadata": {
    "ExecuteTime": {
     "end_time": "2024-04-01T09:37:40.400759Z",
     "start_time": "2024-04-01T09:37:40.336118Z"
    },
    "collapsed": false
   },
   "outputs": [],
   "source": [
    "fc_df_wide = pd.get_dummies(df1['first_careunit'], prefix = 'firstcare', dtype = int)\n",
    "df1 = df1.drop('first_careunit', axis=1)\n",
    "df1 = pd.concat((df1, fc_df_wide), axis = 1)"
   ]
  },
  {
   "cell_type": "markdown",
   "id": "9a6952b299686a6b",
   "metadata": {
    "collapsed": false
   },
   "source": [
    "## Normalization"
   ]
  },
  {
   "cell_type": "code",
   "execution_count": 55,
   "id": "b772fe2da2176016",
   "metadata": {
    "ExecuteTime": {
     "end_time": "2024-04-01T09:53:52.364670Z",
     "start_time": "2024-04-01T09:53:52.347742Z"
    },
    "collapsed": false
   },
   "outputs": [],
   "source": [
    "df2 = df1"
   ]
  },
  {
   "cell_type": "code",
   "execution_count": 56,
   "id": "2fb2a5befdc55e19",
   "metadata": {
    "ExecuteTime": {
     "end_time": "2024-04-01T09:53:54.029393Z",
     "start_time": "2024-04-01T09:53:53.967583Z"
    },
    "collapsed": false
   },
   "outputs": [],
   "source": [
    "## Normalization\n",
    "def normalize_column(x):\n",
    "        return (x - x.mean()) / x.std()\n",
    "\n",
    "cols_norm1 = ['admission_age', 'weight_admit', 'height', 'charlson_score']\n",
    "\n",
    "df2[cols_norm1] = df2[cols_norm1].apply(normalize_column)\n",
    "df2.loc[:, 'albumin':'ptt'] = df2.loc[:, 'albumin':'ptt'].apply(normalize_column)"
   ]
  },
  {
   "cell_type": "code",
   "execution_count": 48,
   "id": "c08e8c4ffef18b8b",
   "metadata": {
    "ExecuteTime": {
     "end_time": "2024-04-01T09:46:36.424803Z",
     "start_time": "2024-04-01T09:46:36.400287Z"
    },
    "collapsed": false
   },
   "outputs": [
    {
     "data": {
      "text/html": [
       "<div>\n",
       "<style scoped>\n",
       "    .dataframe tbody tr th:only-of-type {\n",
       "        vertical-align: middle;\n",
       "    }\n",
       "\n",
       "    .dataframe tbody tr th {\n",
       "        vertical-align: top;\n",
       "    }\n",
       "\n",
       "    .dataframe thead th {\n",
       "        text-align: right;\n",
       "    }\n",
       "</style>\n",
       "<table border=\"1\" class=\"dataframe\">\n",
       "  <thead>\n",
       "    <tr style=\"text-align: right;\">\n",
       "      <th></th>\n",
       "      <th>id</th>\n",
       "      <th>hosp_admittime</th>\n",
       "      <th>hosp_dischtime</th>\n",
       "      <th>icu_intime</th>\n",
       "      <th>icu_outtime</th>\n",
       "      <th>los_icu</th>\n",
       "      <th>icu_death</th>\n",
       "      <th>admission_age</th>\n",
       "      <th>weight_admit</th>\n",
       "      <th>height</th>\n",
       "      <th>...</th>\n",
       "      <th>race_OTHER</th>\n",
       "      <th>race_WHITE</th>\n",
       "      <th>admtyp_ELECTIVE</th>\n",
       "      <th>admtyp_EMERGENCY</th>\n",
       "      <th>admtyp_URGENT</th>\n",
       "      <th>firstcare_CARDIAC</th>\n",
       "      <th>firstcare_CORONARY</th>\n",
       "      <th>firstcare_MEDICAL/SURGICAL</th>\n",
       "      <th>firstcare_NEURO</th>\n",
       "      <th>firstcare_TRAUMA</th>\n",
       "    </tr>\n",
       "  </thead>\n",
       "  <tbody>\n",
       "    <tr>\n",
       "      <th>0</th>\n",
       "      <td>24099382</td>\n",
       "      <td>6/11/11 7:15</td>\n",
       "      <td>6/18/11 21:45</td>\n",
       "      <td>6/11/11 14:31</td>\n",
       "      <td>6/13/11 18:05</td>\n",
       "      <td>2.15</td>\n",
       "      <td>0</td>\n",
       "      <td>-0.560507</td>\n",
       "      <td>0.230368</td>\n",
       "      <td>0.051240</td>\n",
       "      <td>...</td>\n",
       "      <td>1</td>\n",
       "      <td>0</td>\n",
       "      <td>1</td>\n",
       "      <td>0</td>\n",
       "      <td>0</td>\n",
       "      <td>0</td>\n",
       "      <td>0</td>\n",
       "      <td>0</td>\n",
       "      <td>0</td>\n",
       "      <td>1</td>\n",
       "    </tr>\n",
       "    <tr>\n",
       "      <th>1</th>\n",
       "      <td>27824879</td>\n",
       "      <td>9/30/28 20:55</td>\n",
       "      <td>10/10/28 15:54</td>\n",
       "      <td>9/30/28 20:58</td>\n",
       "      <td>10/5/28 18:39</td>\n",
       "      <td>4.90</td>\n",
       "      <td>0</td>\n",
       "      <td>0.806297</td>\n",
       "      <td>-1.076268</td>\n",
       "      <td>NaN</td>\n",
       "      <td>...</td>\n",
       "      <td>0</td>\n",
       "      <td>1</td>\n",
       "      <td>0</td>\n",
       "      <td>1</td>\n",
       "      <td>0</td>\n",
       "      <td>0</td>\n",
       "      <td>0</td>\n",
       "      <td>0</td>\n",
       "      <td>0</td>\n",
       "      <td>1</td>\n",
       "    </tr>\n",
       "    <tr>\n",
       "      <th>2</th>\n",
       "      <td>27146619</td>\n",
       "      <td>9/20/41 0:34</td>\n",
       "      <td>9/22/41 12:05</td>\n",
       "      <td>9/20/41 7:13</td>\n",
       "      <td>9/21/41 18:10</td>\n",
       "      <td>1.46</td>\n",
       "      <td>0</td>\n",
       "      <td>0.932592</td>\n",
       "      <td>-0.935010</td>\n",
       "      <td>NaN</td>\n",
       "      <td>...</td>\n",
       "      <td>0</td>\n",
       "      <td>1</td>\n",
       "      <td>0</td>\n",
       "      <td>1</td>\n",
       "      <td>0</td>\n",
       "      <td>0</td>\n",
       "      <td>0</td>\n",
       "      <td>1</td>\n",
       "      <td>0</td>\n",
       "      <td>0</td>\n",
       "    </tr>\n",
       "    <tr>\n",
       "      <th>3</th>\n",
       "      <td>22476441</td>\n",
       "      <td>10/8/73 16:46</td>\n",
       "      <td>10/16/73 13:05</td>\n",
       "      <td>10/8/73 18:28</td>\n",
       "      <td>10/10/73 13:26</td>\n",
       "      <td>1.79</td>\n",
       "      <td>0</td>\n",
       "      <td>-0.218748</td>\n",
       "      <td>-0.419419</td>\n",
       "      <td>-0.873545</td>\n",
       "      <td>...</td>\n",
       "      <td>0</td>\n",
       "      <td>0</td>\n",
       "      <td>0</td>\n",
       "      <td>1</td>\n",
       "      <td>0</td>\n",
       "      <td>0</td>\n",
       "      <td>0</td>\n",
       "      <td>1</td>\n",
       "      <td>0</td>\n",
       "      <td>0</td>\n",
       "    </tr>\n",
       "    <tr>\n",
       "      <th>4</th>\n",
       "      <td>23169158</td>\n",
       "      <td>3/12/27 1:19</td>\n",
       "      <td>3/19/27 13:15</td>\n",
       "      <td>3/12/27 2:43</td>\n",
       "      <td>3/15/27 1:53</td>\n",
       "      <td>2.97</td>\n",
       "      <td>0</td>\n",
       "      <td>1.091332</td>\n",
       "      <td>-0.225189</td>\n",
       "      <td>-0.873545</td>\n",
       "      <td>...</td>\n",
       "      <td>0</td>\n",
       "      <td>1</td>\n",
       "      <td>1</td>\n",
       "      <td>0</td>\n",
       "      <td>0</td>\n",
       "      <td>0</td>\n",
       "      <td>0</td>\n",
       "      <td>1</td>\n",
       "      <td>0</td>\n",
       "      <td>0</td>\n",
       "    </tr>\n",
       "    <tr>\n",
       "      <th>...</th>\n",
       "      <td>...</td>\n",
       "      <td>...</td>\n",
       "      <td>...</td>\n",
       "      <td>...</td>\n",
       "      <td>...</td>\n",
       "      <td>...</td>\n",
       "      <td>...</td>\n",
       "      <td>...</td>\n",
       "      <td>...</td>\n",
       "      <td>...</td>\n",
       "      <td>...</td>\n",
       "      <td>...</td>\n",
       "      <td>...</td>\n",
       "      <td>...</td>\n",
       "      <td>...</td>\n",
       "      <td>...</td>\n",
       "      <td>...</td>\n",
       "      <td>...</td>\n",
       "      <td>...</td>\n",
       "      <td>...</td>\n",
       "      <td>...</td>\n",
       "    </tr>\n",
       "    <tr>\n",
       "      <th>20409</th>\n",
       "      <td>29968077</td>\n",
       "      <td>9/12/59 6:20</td>\n",
       "      <td>10/5/59 15:41</td>\n",
       "      <td>9/12/59 7:45</td>\n",
       "      <td>9/18/59 16:55</td>\n",
       "      <td>6.38</td>\n",
       "      <td>0</td>\n",
       "      <td>0.418001</td>\n",
       "      <td>1.296866</td>\n",
       "      <td>0.051240</td>\n",
       "      <td>...</td>\n",
       "      <td>0</td>\n",
       "      <td>1</td>\n",
       "      <td>0</td>\n",
       "      <td>1</td>\n",
       "      <td>0</td>\n",
       "      <td>0</td>\n",
       "      <td>1</td>\n",
       "      <td>0</td>\n",
       "      <td>0</td>\n",
       "      <td>0</td>\n",
       "    </tr>\n",
       "    <tr>\n",
       "      <th>20410</th>\n",
       "      <td>29975784</td>\n",
       "      <td>8/30/36 15:18</td>\n",
       "      <td>9/2/36 16:15</td>\n",
       "      <td>8/30/36 16:48</td>\n",
       "      <td>9/1/36 10:41</td>\n",
       "      <td>1.75</td>\n",
       "      <td>0</td>\n",
       "      <td>1.249892</td>\n",
       "      <td>-0.571271</td>\n",
       "      <td>NaN</td>\n",
       "      <td>...</td>\n",
       "      <td>0</td>\n",
       "      <td>1</td>\n",
       "      <td>0</td>\n",
       "      <td>1</td>\n",
       "      <td>0</td>\n",
       "      <td>0</td>\n",
       "      <td>0</td>\n",
       "      <td>1</td>\n",
       "      <td>0</td>\n",
       "      <td>0</td>\n",
       "    </tr>\n",
       "    <tr>\n",
       "      <th>20411</th>\n",
       "      <td>29987115</td>\n",
       "      <td>2/16/48 17:42</td>\n",
       "      <td>2/20/48 19:00</td>\n",
       "      <td>2/16/48 17:43</td>\n",
       "      <td>2/20/48 21:00</td>\n",
       "      <td>4.14</td>\n",
       "      <td>1</td>\n",
       "      <td>-1.542852</td>\n",
       "      <td>-0.652494</td>\n",
       "      <td>-1.613373</td>\n",
       "      <td>...</td>\n",
       "      <td>0</td>\n",
       "      <td>1</td>\n",
       "      <td>0</td>\n",
       "      <td>0</td>\n",
       "      <td>1</td>\n",
       "      <td>0</td>\n",
       "      <td>0</td>\n",
       "      <td>1</td>\n",
       "      <td>0</td>\n",
       "      <td>0</td>\n",
       "    </tr>\n",
       "    <tr>\n",
       "      <th>20412</th>\n",
       "      <td>29990494</td>\n",
       "      <td>5/10/71 12:05</td>\n",
       "      <td>6/16/71 13:45</td>\n",
       "      <td>5/17/71 22:16</td>\n",
       "      <td>5/28/71 20:41</td>\n",
       "      <td>10.93</td>\n",
       "      <td>0</td>\n",
       "      <td>-0.630271</td>\n",
       "      <td>0.576450</td>\n",
       "      <td>-0.133717</td>\n",
       "      <td>...</td>\n",
       "      <td>0</td>\n",
       "      <td>1</td>\n",
       "      <td>0</td>\n",
       "      <td>1</td>\n",
       "      <td>0</td>\n",
       "      <td>0</td>\n",
       "      <td>0</td>\n",
       "      <td>1</td>\n",
       "      <td>0</td>\n",
       "      <td>0</td>\n",
       "    </tr>\n",
       "    <tr>\n",
       "      <th>20413</th>\n",
       "      <td>29994623</td>\n",
       "      <td>7/24/37 18:54</td>\n",
       "      <td>7/26/37 16:55</td>\n",
       "      <td>7/24/37 21:38</td>\n",
       "      <td>7/26/37 17:15</td>\n",
       "      <td>1.82</td>\n",
       "      <td>0</td>\n",
       "      <td>0.730143</td>\n",
       "      <td>-0.458264</td>\n",
       "      <td>-0.133717</td>\n",
       "      <td>...</td>\n",
       "      <td>0</td>\n",
       "      <td>1</td>\n",
       "      <td>0</td>\n",
       "      <td>1</td>\n",
       "      <td>0</td>\n",
       "      <td>0</td>\n",
       "      <td>1</td>\n",
       "      <td>0</td>\n",
       "      <td>0</td>\n",
       "      <td>0</td>\n",
       "    </tr>\n",
       "  </tbody>\n",
       "</table>\n",
       "<p>20414 rows × 72 columns</p>\n",
       "</div>"
      ],
      "text/plain": [
       "             id hosp_admittime  hosp_dischtime     icu_intime     icu_outtime  \\\n",
       "0      24099382   6/11/11 7:15   6/18/11 21:45  6/11/11 14:31   6/13/11 18:05   \n",
       "1      27824879  9/30/28 20:55  10/10/28 15:54  9/30/28 20:58   10/5/28 18:39   \n",
       "2      27146619   9/20/41 0:34   9/22/41 12:05   9/20/41 7:13   9/21/41 18:10   \n",
       "3      22476441  10/8/73 16:46  10/16/73 13:05  10/8/73 18:28  10/10/73 13:26   \n",
       "4      23169158   3/12/27 1:19   3/19/27 13:15   3/12/27 2:43    3/15/27 1:53   \n",
       "...         ...            ...             ...            ...             ...   \n",
       "20409  29968077   9/12/59 6:20   10/5/59 15:41   9/12/59 7:45   9/18/59 16:55   \n",
       "20410  29975784  8/30/36 15:18    9/2/36 16:15  8/30/36 16:48    9/1/36 10:41   \n",
       "20411  29987115  2/16/48 17:42   2/20/48 19:00  2/16/48 17:43   2/20/48 21:00   \n",
       "20412  29990494  5/10/71 12:05   6/16/71 13:45  5/17/71 22:16   5/28/71 20:41   \n",
       "20413  29994623  7/24/37 18:54   7/26/37 16:55  7/24/37 21:38   7/26/37 17:15   \n",
       "\n",
       "       los_icu  icu_death  admission_age  weight_admit    height  ...  \\\n",
       "0         2.15          0      -0.560507      0.230368  0.051240  ...   \n",
       "1         4.90          0       0.806297     -1.076268       NaN  ...   \n",
       "2         1.46          0       0.932592     -0.935010       NaN  ...   \n",
       "3         1.79          0      -0.218748     -0.419419 -0.873545  ...   \n",
       "4         2.97          0       1.091332     -0.225189 -0.873545  ...   \n",
       "...        ...        ...            ...           ...       ...  ...   \n",
       "20409     6.38          0       0.418001      1.296866  0.051240  ...   \n",
       "20410     1.75          0       1.249892     -0.571271       NaN  ...   \n",
       "20411     4.14          1      -1.542852     -0.652494 -1.613373  ...   \n",
       "20412    10.93          0      -0.630271      0.576450 -0.133717  ...   \n",
       "20413     1.82          0       0.730143     -0.458264 -0.133717  ...   \n",
       "\n",
       "       race_OTHER  race_WHITE  admtyp_ELECTIVE  admtyp_EMERGENCY  \\\n",
       "0               1           0                1                 0   \n",
       "1               0           1                0                 1   \n",
       "2               0           1                0                 1   \n",
       "3               0           0                0                 1   \n",
       "4               0           1                1                 0   \n",
       "...           ...         ...              ...               ...   \n",
       "20409           0           1                0                 1   \n",
       "20410           0           1                0                 1   \n",
       "20411           0           1                0                 0   \n",
       "20412           0           1                0                 1   \n",
       "20413           0           1                0                 1   \n",
       "\n",
       "       admtyp_URGENT  firstcare_CARDIAC  firstcare_CORONARY  \\\n",
       "0                  0                  0                   0   \n",
       "1                  0                  0                   0   \n",
       "2                  0                  0                   0   \n",
       "3                  0                  0                   0   \n",
       "4                  0                  0                   0   \n",
       "...              ...                ...                 ...   \n",
       "20409              0                  0                   1   \n",
       "20410              0                  0                   0   \n",
       "20411              1                  0                   0   \n",
       "20412              0                  0                   0   \n",
       "20413              0                  0                   1   \n",
       "\n",
       "       firstcare_MEDICAL/SURGICAL  firstcare_NEURO  firstcare_TRAUMA  \n",
       "0                               0                0                 1  \n",
       "1                               0                0                 1  \n",
       "2                               1                0                 0  \n",
       "3                               1                0                 0  \n",
       "4                               1                0                 0  \n",
       "...                           ...              ...               ...  \n",
       "20409                           0                0                 0  \n",
       "20410                           1                0                 0  \n",
       "20411                           1                0                 0  \n",
       "20412                           1                0                 0  \n",
       "20413                           0                0                 0  \n",
       "\n",
       "[20414 rows x 72 columns]"
      ]
     },
     "execution_count": 48,
     "metadata": {},
     "output_type": "execute_result"
    }
   ],
   "source": [
    "df2"
   ]
  },
  {
   "cell_type": "markdown",
   "id": "ad9fbb75f4422b54",
   "metadata": {
    "collapsed": false
   },
   "source": [
    "## KNN Imputation"
   ]
  },
  {
   "cell_type": "code",
   "execution_count": 51,
   "id": "753968c2fb89e089",
   "metadata": {
    "ExecuteTime": {
     "end_time": "2024-04-01T09:52:25.795271Z",
     "start_time": "2024-04-01T09:51:08.253284Z"
    },
    "collapsed": false
   },
   "outputs": [],
   "source": [
    "imputer = KNNImputer(n_neighbors=3, weights='uniform', metric='nan_euclidean')\n",
    "df_impute = df2.loc[:, 'admission_age':]\n",
    "df_impute1 = imputer.fit_transform(df_impute)"
   ]
  },
  {
   "cell_type": "code",
   "execution_count": 57,
   "id": "c006196a715bc4f2",
   "metadata": {
    "ExecuteTime": {
     "end_time": "2024-04-01T09:54:03.029863Z",
     "start_time": "2024-04-01T09:54:03.004055Z"
    },
    "collapsed": false
   },
   "outputs": [],
   "source": [
    "df2 = df2.drop(df_impute.columns, axis=1)\n",
    "df_impute1 = pd.DataFrame(df_impute1)\n",
    "df_impute1.columns = df_impute.columns\n",
    "df2 = pd.concat((df2, df_impute1), axis=1)"
   ]
  },
  {
   "cell_type": "code",
   "execution_count": 58,
   "id": "8c3f9f8d82520c83",
   "metadata": {
    "ExecuteTime": {
     "end_time": "2024-04-01T09:54:13.999937Z",
     "start_time": "2024-04-01T09:54:13.978267Z"
    },
    "collapsed": false
   },
   "outputs": [
    {
     "data": {
      "text/html": [
       "<div>\n",
       "<style scoped>\n",
       "    .dataframe tbody tr th:only-of-type {\n",
       "        vertical-align: middle;\n",
       "    }\n",
       "\n",
       "    .dataframe tbody tr th {\n",
       "        vertical-align: top;\n",
       "    }\n",
       "\n",
       "    .dataframe thead th {\n",
       "        text-align: right;\n",
       "    }\n",
       "</style>\n",
       "<table border=\"1\" class=\"dataframe\">\n",
       "  <thead>\n",
       "    <tr style=\"text-align: right;\">\n",
       "      <th></th>\n",
       "      <th>id</th>\n",
       "      <th>hosp_admittime</th>\n",
       "      <th>hosp_dischtime</th>\n",
       "      <th>icu_intime</th>\n",
       "      <th>icu_outtime</th>\n",
       "      <th>los_icu</th>\n",
       "      <th>icu_death</th>\n",
       "      <th>admission_age</th>\n",
       "      <th>weight_admit</th>\n",
       "      <th>height</th>\n",
       "      <th>...</th>\n",
       "      <th>race_OTHER</th>\n",
       "      <th>race_WHITE</th>\n",
       "      <th>admtyp_ELECTIVE</th>\n",
       "      <th>admtyp_EMERGENCY</th>\n",
       "      <th>admtyp_URGENT</th>\n",
       "      <th>firstcare_CARDIAC</th>\n",
       "      <th>firstcare_CORONARY</th>\n",
       "      <th>firstcare_MEDICAL/SURGICAL</th>\n",
       "      <th>firstcare_NEURO</th>\n",
       "      <th>firstcare_TRAUMA</th>\n",
       "    </tr>\n",
       "  </thead>\n",
       "  <tbody>\n",
       "    <tr>\n",
       "      <th>0</th>\n",
       "      <td>24099382</td>\n",
       "      <td>6/11/11 7:15</td>\n",
       "      <td>6/18/11 21:45</td>\n",
       "      <td>6/11/11 14:31</td>\n",
       "      <td>6/13/11 18:05</td>\n",
       "      <td>2.15</td>\n",
       "      <td>0</td>\n",
       "      <td>-0.560507</td>\n",
       "      <td>0.230368</td>\n",
       "      <td>0.051240</td>\n",
       "      <td>...</td>\n",
       "      <td>1.0</td>\n",
       "      <td>0.0</td>\n",
       "      <td>1.0</td>\n",
       "      <td>0.0</td>\n",
       "      <td>0.0</td>\n",
       "      <td>0.0</td>\n",
       "      <td>0.0</td>\n",
       "      <td>0.0</td>\n",
       "      <td>0.0</td>\n",
       "      <td>1.0</td>\n",
       "    </tr>\n",
       "    <tr>\n",
       "      <th>1</th>\n",
       "      <td>27824879</td>\n",
       "      <td>9/30/28 20:55</td>\n",
       "      <td>10/10/28 15:54</td>\n",
       "      <td>9/30/28 20:58</td>\n",
       "      <td>10/5/28 18:39</td>\n",
       "      <td>4.90</td>\n",
       "      <td>0</td>\n",
       "      <td>0.806297</td>\n",
       "      <td>-1.076268</td>\n",
       "      <td>-0.842718</td>\n",
       "      <td>...</td>\n",
       "      <td>0.0</td>\n",
       "      <td>1.0</td>\n",
       "      <td>0.0</td>\n",
       "      <td>1.0</td>\n",
       "      <td>0.0</td>\n",
       "      <td>0.0</td>\n",
       "      <td>0.0</td>\n",
       "      <td>0.0</td>\n",
       "      <td>0.0</td>\n",
       "      <td>1.0</td>\n",
       "    </tr>\n",
       "    <tr>\n",
       "      <th>2</th>\n",
       "      <td>27146619</td>\n",
       "      <td>9/20/41 0:34</td>\n",
       "      <td>9/22/41 12:05</td>\n",
       "      <td>9/20/41 7:13</td>\n",
       "      <td>9/21/41 18:10</td>\n",
       "      <td>1.46</td>\n",
       "      <td>0</td>\n",
       "      <td>0.932592</td>\n",
       "      <td>-0.935010</td>\n",
       "      <td>-0.472804</td>\n",
       "      <td>...</td>\n",
       "      <td>0.0</td>\n",
       "      <td>1.0</td>\n",
       "      <td>0.0</td>\n",
       "      <td>1.0</td>\n",
       "      <td>0.0</td>\n",
       "      <td>0.0</td>\n",
       "      <td>0.0</td>\n",
       "      <td>1.0</td>\n",
       "      <td>0.0</td>\n",
       "      <td>0.0</td>\n",
       "    </tr>\n",
       "    <tr>\n",
       "      <th>3</th>\n",
       "      <td>22476441</td>\n",
       "      <td>10/8/73 16:46</td>\n",
       "      <td>10/16/73 13:05</td>\n",
       "      <td>10/8/73 18:28</td>\n",
       "      <td>10/10/73 13:26</td>\n",
       "      <td>1.79</td>\n",
       "      <td>0</td>\n",
       "      <td>-0.218748</td>\n",
       "      <td>-0.419419</td>\n",
       "      <td>-0.873545</td>\n",
       "      <td>...</td>\n",
       "      <td>0.0</td>\n",
       "      <td>0.0</td>\n",
       "      <td>0.0</td>\n",
       "      <td>1.0</td>\n",
       "      <td>0.0</td>\n",
       "      <td>0.0</td>\n",
       "      <td>0.0</td>\n",
       "      <td>1.0</td>\n",
       "      <td>0.0</td>\n",
       "      <td>0.0</td>\n",
       "    </tr>\n",
       "    <tr>\n",
       "      <th>4</th>\n",
       "      <td>23169158</td>\n",
       "      <td>3/12/27 1:19</td>\n",
       "      <td>3/19/27 13:15</td>\n",
       "      <td>3/12/27 2:43</td>\n",
       "      <td>3/15/27 1:53</td>\n",
       "      <td>2.97</td>\n",
       "      <td>0</td>\n",
       "      <td>1.091332</td>\n",
       "      <td>-0.225189</td>\n",
       "      <td>-0.873545</td>\n",
       "      <td>...</td>\n",
       "      <td>0.0</td>\n",
       "      <td>1.0</td>\n",
       "      <td>1.0</td>\n",
       "      <td>0.0</td>\n",
       "      <td>0.0</td>\n",
       "      <td>0.0</td>\n",
       "      <td>0.0</td>\n",
       "      <td>1.0</td>\n",
       "      <td>0.0</td>\n",
       "      <td>0.0</td>\n",
       "    </tr>\n",
       "    <tr>\n",
       "      <th>...</th>\n",
       "      <td>...</td>\n",
       "      <td>...</td>\n",
       "      <td>...</td>\n",
       "      <td>...</td>\n",
       "      <td>...</td>\n",
       "      <td>...</td>\n",
       "      <td>...</td>\n",
       "      <td>...</td>\n",
       "      <td>...</td>\n",
       "      <td>...</td>\n",
       "      <td>...</td>\n",
       "      <td>...</td>\n",
       "      <td>...</td>\n",
       "      <td>...</td>\n",
       "      <td>...</td>\n",
       "      <td>...</td>\n",
       "      <td>...</td>\n",
       "      <td>...</td>\n",
       "      <td>...</td>\n",
       "      <td>...</td>\n",
       "      <td>...</td>\n",
       "    </tr>\n",
       "    <tr>\n",
       "      <th>20409</th>\n",
       "      <td>29968077</td>\n",
       "      <td>9/12/59 6:20</td>\n",
       "      <td>10/5/59 15:41</td>\n",
       "      <td>9/12/59 7:45</td>\n",
       "      <td>9/18/59 16:55</td>\n",
       "      <td>6.38</td>\n",
       "      <td>0</td>\n",
       "      <td>0.418001</td>\n",
       "      <td>1.296866</td>\n",
       "      <td>0.051240</td>\n",
       "      <td>...</td>\n",
       "      <td>0.0</td>\n",
       "      <td>1.0</td>\n",
       "      <td>0.0</td>\n",
       "      <td>1.0</td>\n",
       "      <td>0.0</td>\n",
       "      <td>0.0</td>\n",
       "      <td>1.0</td>\n",
       "      <td>0.0</td>\n",
       "      <td>0.0</td>\n",
       "      <td>0.0</td>\n",
       "    </tr>\n",
       "    <tr>\n",
       "      <th>20410</th>\n",
       "      <td>29975784</td>\n",
       "      <td>8/30/36 15:18</td>\n",
       "      <td>9/2/36 16:15</td>\n",
       "      <td>8/30/36 16:48</td>\n",
       "      <td>9/1/36 10:41</td>\n",
       "      <td>1.75</td>\n",
       "      <td>0</td>\n",
       "      <td>1.249892</td>\n",
       "      <td>-0.571271</td>\n",
       "      <td>2.085767</td>\n",
       "      <td>...</td>\n",
       "      <td>0.0</td>\n",
       "      <td>1.0</td>\n",
       "      <td>0.0</td>\n",
       "      <td>1.0</td>\n",
       "      <td>0.0</td>\n",
       "      <td>0.0</td>\n",
       "      <td>0.0</td>\n",
       "      <td>1.0</td>\n",
       "      <td>0.0</td>\n",
       "      <td>0.0</td>\n",
       "    </tr>\n",
       "    <tr>\n",
       "      <th>20411</th>\n",
       "      <td>29987115</td>\n",
       "      <td>2/16/48 17:42</td>\n",
       "      <td>2/20/48 19:00</td>\n",
       "      <td>2/16/48 17:43</td>\n",
       "      <td>2/20/48 21:00</td>\n",
       "      <td>4.14</td>\n",
       "      <td>1</td>\n",
       "      <td>-1.542852</td>\n",
       "      <td>-0.652494</td>\n",
       "      <td>-1.613373</td>\n",
       "      <td>...</td>\n",
       "      <td>0.0</td>\n",
       "      <td>1.0</td>\n",
       "      <td>0.0</td>\n",
       "      <td>0.0</td>\n",
       "      <td>1.0</td>\n",
       "      <td>0.0</td>\n",
       "      <td>0.0</td>\n",
       "      <td>1.0</td>\n",
       "      <td>0.0</td>\n",
       "      <td>0.0</td>\n",
       "    </tr>\n",
       "    <tr>\n",
       "      <th>20412</th>\n",
       "      <td>29990494</td>\n",
       "      <td>5/10/71 12:05</td>\n",
       "      <td>6/16/71 13:45</td>\n",
       "      <td>5/17/71 22:16</td>\n",
       "      <td>5/28/71 20:41</td>\n",
       "      <td>10.93</td>\n",
       "      <td>0</td>\n",
       "      <td>-0.630271</td>\n",
       "      <td>0.576450</td>\n",
       "      <td>-0.133717</td>\n",
       "      <td>...</td>\n",
       "      <td>0.0</td>\n",
       "      <td>1.0</td>\n",
       "      <td>0.0</td>\n",
       "      <td>1.0</td>\n",
       "      <td>0.0</td>\n",
       "      <td>0.0</td>\n",
       "      <td>0.0</td>\n",
       "      <td>1.0</td>\n",
       "      <td>0.0</td>\n",
       "      <td>0.0</td>\n",
       "    </tr>\n",
       "    <tr>\n",
       "      <th>20413</th>\n",
       "      <td>29994623</td>\n",
       "      <td>7/24/37 18:54</td>\n",
       "      <td>7/26/37 16:55</td>\n",
       "      <td>7/24/37 21:38</td>\n",
       "      <td>7/26/37 17:15</td>\n",
       "      <td>1.82</td>\n",
       "      <td>0</td>\n",
       "      <td>0.730143</td>\n",
       "      <td>-0.458264</td>\n",
       "      <td>-0.133717</td>\n",
       "      <td>...</td>\n",
       "      <td>0.0</td>\n",
       "      <td>1.0</td>\n",
       "      <td>0.0</td>\n",
       "      <td>1.0</td>\n",
       "      <td>0.0</td>\n",
       "      <td>0.0</td>\n",
       "      <td>1.0</td>\n",
       "      <td>0.0</td>\n",
       "      <td>0.0</td>\n",
       "      <td>0.0</td>\n",
       "    </tr>\n",
       "  </tbody>\n",
       "</table>\n",
       "<p>20414 rows × 72 columns</p>\n",
       "</div>"
      ],
      "text/plain": [
       "             id hosp_admittime  hosp_dischtime     icu_intime     icu_outtime  \\\n",
       "0      24099382   6/11/11 7:15   6/18/11 21:45  6/11/11 14:31   6/13/11 18:05   \n",
       "1      27824879  9/30/28 20:55  10/10/28 15:54  9/30/28 20:58   10/5/28 18:39   \n",
       "2      27146619   9/20/41 0:34   9/22/41 12:05   9/20/41 7:13   9/21/41 18:10   \n",
       "3      22476441  10/8/73 16:46  10/16/73 13:05  10/8/73 18:28  10/10/73 13:26   \n",
       "4      23169158   3/12/27 1:19   3/19/27 13:15   3/12/27 2:43    3/15/27 1:53   \n",
       "...         ...            ...             ...            ...             ...   \n",
       "20409  29968077   9/12/59 6:20   10/5/59 15:41   9/12/59 7:45   9/18/59 16:55   \n",
       "20410  29975784  8/30/36 15:18    9/2/36 16:15  8/30/36 16:48    9/1/36 10:41   \n",
       "20411  29987115  2/16/48 17:42   2/20/48 19:00  2/16/48 17:43   2/20/48 21:00   \n",
       "20412  29990494  5/10/71 12:05   6/16/71 13:45  5/17/71 22:16   5/28/71 20:41   \n",
       "20413  29994623  7/24/37 18:54   7/26/37 16:55  7/24/37 21:38   7/26/37 17:15   \n",
       "\n",
       "       los_icu  icu_death  admission_age  weight_admit    height  ...  \\\n",
       "0         2.15          0      -0.560507      0.230368  0.051240  ...   \n",
       "1         4.90          0       0.806297     -1.076268 -0.842718  ...   \n",
       "2         1.46          0       0.932592     -0.935010 -0.472804  ...   \n",
       "3         1.79          0      -0.218748     -0.419419 -0.873545  ...   \n",
       "4         2.97          0       1.091332     -0.225189 -0.873545  ...   \n",
       "...        ...        ...            ...           ...       ...  ...   \n",
       "20409     6.38          0       0.418001      1.296866  0.051240  ...   \n",
       "20410     1.75          0       1.249892     -0.571271  2.085767  ...   \n",
       "20411     4.14          1      -1.542852     -0.652494 -1.613373  ...   \n",
       "20412    10.93          0      -0.630271      0.576450 -0.133717  ...   \n",
       "20413     1.82          0       0.730143     -0.458264 -0.133717  ...   \n",
       "\n",
       "       race_OTHER  race_WHITE  admtyp_ELECTIVE  admtyp_EMERGENCY  \\\n",
       "0             1.0         0.0              1.0               0.0   \n",
       "1             0.0         1.0              0.0               1.0   \n",
       "2             0.0         1.0              0.0               1.0   \n",
       "3             0.0         0.0              0.0               1.0   \n",
       "4             0.0         1.0              1.0               0.0   \n",
       "...           ...         ...              ...               ...   \n",
       "20409         0.0         1.0              0.0               1.0   \n",
       "20410         0.0         1.0              0.0               1.0   \n",
       "20411         0.0         1.0              0.0               0.0   \n",
       "20412         0.0         1.0              0.0               1.0   \n",
       "20413         0.0         1.0              0.0               1.0   \n",
       "\n",
       "       admtyp_URGENT  firstcare_CARDIAC  firstcare_CORONARY  \\\n",
       "0                0.0                0.0                 0.0   \n",
       "1                0.0                0.0                 0.0   \n",
       "2                0.0                0.0                 0.0   \n",
       "3                0.0                0.0                 0.0   \n",
       "4                0.0                0.0                 0.0   \n",
       "...              ...                ...                 ...   \n",
       "20409            0.0                0.0                 1.0   \n",
       "20410            0.0                0.0                 0.0   \n",
       "20411            1.0                0.0                 0.0   \n",
       "20412            0.0                0.0                 0.0   \n",
       "20413            0.0                0.0                 1.0   \n",
       "\n",
       "       firstcare_MEDICAL/SURGICAL  firstcare_NEURO  firstcare_TRAUMA  \n",
       "0                             0.0              0.0               1.0  \n",
       "1                             0.0              0.0               1.0  \n",
       "2                             1.0              0.0               0.0  \n",
       "3                             1.0              0.0               0.0  \n",
       "4                             1.0              0.0               0.0  \n",
       "...                           ...              ...               ...  \n",
       "20409                         0.0              0.0               0.0  \n",
       "20410                         1.0              0.0               0.0  \n",
       "20411                         1.0              0.0               0.0  \n",
       "20412                         1.0              0.0               0.0  \n",
       "20413                         0.0              0.0               0.0  \n",
       "\n",
       "[20414 rows x 72 columns]"
      ]
     },
     "execution_count": 58,
     "metadata": {},
     "output_type": "execute_result"
    }
   ],
   "source": [
    "df2"
   ]
  },
  {
   "cell_type": "markdown",
   "id": "7c436a43347a6c73",
   "metadata": {
    "collapsed": false
   },
   "source": [
    "## Outcome Distribution: Oversampling"
   ]
  },
  {
   "cell_type": "code",
   "execution_count": 59,
   "id": "ee97d2864f95f142",
   "metadata": {
    "ExecuteTime": {
     "end_time": "2024-04-01T09:55:33.013479Z",
     "start_time": "2024-04-01T09:55:32.998457Z"
    },
    "collapsed": false
   },
   "outputs": [
    {
     "data": {
      "text/plain": [
       "0    18276\n",
       "1     2138\n",
       "Name: icu_death, dtype: int64"
      ]
     },
     "execution_count": 59,
     "metadata": {},
     "output_type": "execute_result"
    }
   ],
   "source": [
    "df2['icu_death'].value_counts()"
   ]
  },
  {
   "cell_type": "code",
   "execution_count": 62,
   "id": "f201d663b24d92db",
   "metadata": {
    "ExecuteTime": {
     "end_time": "2024-04-01T09:57:48.619808Z",
     "start_time": "2024-04-01T09:57:48.597865Z"
    },
    "collapsed": false
   },
   "outputs": [],
   "source": [
    "X_df = df2.iloc[:, 7:]\n",
    "y_df = df2.loc[:, 'icu_death']"
   ]
  },
  {
   "cell_type": "code",
   "execution_count": 64,
   "id": "9611aebdd33f9470",
   "metadata": {
    "ExecuteTime": {
     "end_time": "2024-04-01T09:58:44.568264Z",
     "start_time": "2024-04-01T09:58:44.409958Z"
    },
    "collapsed": false
   },
   "outputs": [],
   "source": [
    "# Oversampling\n",
    "smote_sampler = SMOTE(random_state=12, sampling_strategy='minority')\n",
    "X_df_SMOTE, y_df_SMOTE = smote_sampler.fit_resample(X_df, y_df)"
   ]
  },
  {
   "cell_type": "code",
   "execution_count": 65,
   "id": "6b2db11d239b176f",
   "metadata": {
    "ExecuteTime": {
     "end_time": "2024-04-01T09:58:49.305892Z",
     "start_time": "2024-04-01T09:58:49.255208Z"
    },
    "collapsed": false
   },
   "outputs": [],
   "source": [
    "X_df = pd.DataFrame(X_df_SMOTE)\n",
    "y_df = pd.DataFrame(y_df_SMOTE)"
   ]
  },
  {
   "cell_type": "code",
   "execution_count": 72,
   "id": "495af3fc6874d07c",
   "metadata": {
    "ExecuteTime": {
     "end_time": "2024-04-01T10:01:14.428040Z",
     "start_time": "2024-04-01T10:01:14.422889Z"
    },
    "collapsed": false
   },
   "outputs": [],
   "source": [
    "df3 = df2"
   ]
  },
  {
   "cell_type": "code",
   "execution_count": 73,
   "id": "b0777bfb00eeec54",
   "metadata": {
    "ExecuteTime": {
     "end_time": "2024-04-01T10:01:16.400412Z",
     "start_time": "2024-04-01T10:01:16.370690Z"
    },
    "collapsed": false
   },
   "outputs": [],
   "source": [
    "df3 = df3.drop(X_df.columns, axis=1)\n",
    "df3 = df3.drop('icu_death', axis=1)\n",
    "df3 = pd.concat((df3, y_df), axis=1)\n",
    "df3 = pd.concat((df3, X_df), axis=1)"
   ]
  },
  {
   "cell_type": "code",
   "execution_count": 75,
   "id": "9cc04a5c4b56de96",
   "metadata": {
    "ExecuteTime": {
     "end_time": "2024-04-01T10:01:27.153704Z",
     "start_time": "2024-04-01T10:01:27.147554Z"
    },
    "collapsed": false
   },
   "outputs": [
    {
     "data": {
      "text/plain": [
       "(36552, 72)"
      ]
     },
     "execution_count": 75,
     "metadata": {},
     "output_type": "execute_result"
    }
   ],
   "source": [
    "df3.shape"
   ]
  },
  {
   "cell_type": "code",
   "execution_count": null,
   "id": "2fca7d12d50ca2d5",
   "metadata": {
    "collapsed": false
   },
   "outputs": [],
   "source": []
  }
 ],
 "metadata": {
  "kernelspec": {
   "display_name": "Python 3",
   "language": "python",
   "name": "python3"
  },
  "language_info": {
   "codemirror_mode": {
    "name": "ipython",
    "version": 2
   },
   "file_extension": ".py",
   "mimetype": "text/x-python",
   "name": "python",
   "nbconvert_exporter": "python",
   "pygments_lexer": "ipython2",
   "version": "3.10.13"
  }
 },
 "nbformat": 4,
 "nbformat_minor": 5
}
